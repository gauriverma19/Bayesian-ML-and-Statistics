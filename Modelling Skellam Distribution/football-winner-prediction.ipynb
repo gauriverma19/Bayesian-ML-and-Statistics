{
 "cells": [
  {
   "cell_type": "markdown",
   "metadata": {},
   "source": [
    "<div style=\"text-align: right\">Data Sci Engineering Methods</div>\n",
    "<div style=\"text-align: right\">Gauri Verma (TA), 12 November 2021</div>\n",
    "\n",
    "# Who will win the match?\n",
    "\n",
    "### What are the chances of draw for Europe vs Non-Europe?\n",
    "\n",
    "### MOM and pymc3 implementation"
   ]
  },
  {
   "cell_type": "markdown",
   "metadata": {},
   "source": [
    "<img src=\"ipynb.images/soccer.jpg\" width=\"400\" height=\"200\">"
   ]
  },
  {
   "cell_type": "code",
   "execution_count": 17,
   "metadata": {},
   "outputs": [],
   "source": [
    "#importing necessary libraries\n",
    "import pandas as pd\n",
    "import numpy as np\n",
    "import pandas as pd\n",
    "import matplotlib.pyplot as plt\n",
    "import numpy as np\n",
    "from scipy.stats import poisson,skellam"
   ]
  },
  {
   "cell_type": "code",
   "execution_count": 18,
   "metadata": {},
   "outputs": [],
   "source": [
    "df = pd.read_csv('results.csv')"
   ]
  },
  {
   "cell_type": "code",
   "execution_count": 19,
   "metadata": {},
   "outputs": [
    {
     "data": {
      "text/plain": [
       "(42899, 9)"
      ]
     },
     "execution_count": 19,
     "metadata": {},
     "output_type": "execute_result"
    }
   ],
   "source": [
    "df.shape"
   ]
  },
  {
   "cell_type": "code",
   "execution_count": 20,
   "metadata": {},
   "outputs": [
    {
     "data": {
      "text/html": [
       "<div>\n",
       "<style scoped>\n",
       "    .dataframe tbody tr th:only-of-type {\n",
       "        vertical-align: middle;\n",
       "    }\n",
       "\n",
       "    .dataframe tbody tr th {\n",
       "        vertical-align: top;\n",
       "    }\n",
       "\n",
       "    .dataframe thead th {\n",
       "        text-align: right;\n",
       "    }\n",
       "</style>\n",
       "<table border=\"1\" class=\"dataframe\">\n",
       "  <thead>\n",
       "    <tr style=\"text-align: right;\">\n",
       "      <th></th>\n",
       "      <th>date</th>\n",
       "      <th>home_team</th>\n",
       "      <th>away_team</th>\n",
       "      <th>home_score</th>\n",
       "      <th>away_score</th>\n",
       "      <th>tournament</th>\n",
       "      <th>city</th>\n",
       "      <th>country</th>\n",
       "      <th>neutral</th>\n",
       "    </tr>\n",
       "  </thead>\n",
       "  <tbody>\n",
       "    <tr>\n",
       "      <th>0</th>\n",
       "      <td>1872-11-30</td>\n",
       "      <td>Scotland</td>\n",
       "      <td>England</td>\n",
       "      <td>0</td>\n",
       "      <td>0</td>\n",
       "      <td>Friendly</td>\n",
       "      <td>Glasgow</td>\n",
       "      <td>Scotland</td>\n",
       "      <td>False</td>\n",
       "    </tr>\n",
       "    <tr>\n",
       "      <th>1</th>\n",
       "      <td>1873-03-08</td>\n",
       "      <td>England</td>\n",
       "      <td>Scotland</td>\n",
       "      <td>4</td>\n",
       "      <td>2</td>\n",
       "      <td>Friendly</td>\n",
       "      <td>London</td>\n",
       "      <td>England</td>\n",
       "      <td>False</td>\n",
       "    </tr>\n",
       "    <tr>\n",
       "      <th>2</th>\n",
       "      <td>1874-03-07</td>\n",
       "      <td>Scotland</td>\n",
       "      <td>England</td>\n",
       "      <td>2</td>\n",
       "      <td>1</td>\n",
       "      <td>Friendly</td>\n",
       "      <td>Glasgow</td>\n",
       "      <td>Scotland</td>\n",
       "      <td>False</td>\n",
       "    </tr>\n",
       "    <tr>\n",
       "      <th>3</th>\n",
       "      <td>1875-03-06</td>\n",
       "      <td>England</td>\n",
       "      <td>Scotland</td>\n",
       "      <td>2</td>\n",
       "      <td>2</td>\n",
       "      <td>Friendly</td>\n",
       "      <td>London</td>\n",
       "      <td>England</td>\n",
       "      <td>False</td>\n",
       "    </tr>\n",
       "    <tr>\n",
       "      <th>4</th>\n",
       "      <td>1876-03-04</td>\n",
       "      <td>Scotland</td>\n",
       "      <td>England</td>\n",
       "      <td>3</td>\n",
       "      <td>0</td>\n",
       "      <td>Friendly</td>\n",
       "      <td>Glasgow</td>\n",
       "      <td>Scotland</td>\n",
       "      <td>False</td>\n",
       "    </tr>\n",
       "  </tbody>\n",
       "</table>\n",
       "</div>"
      ],
      "text/plain": [
       "         date home_team away_team  home_score  away_score tournament     city  \\\n",
       "0  1872-11-30  Scotland   England           0           0   Friendly  Glasgow   \n",
       "1  1873-03-08   England  Scotland           4           2   Friendly   London   \n",
       "2  1874-03-07  Scotland   England           2           1   Friendly  Glasgow   \n",
       "3  1875-03-06   England  Scotland           2           2   Friendly   London   \n",
       "4  1876-03-04  Scotland   England           3           0   Friendly  Glasgow   \n",
       "\n",
       "    country  neutral  \n",
       "0  Scotland    False  \n",
       "1   England    False  \n",
       "2  Scotland    False  \n",
       "3   England    False  \n",
       "4  Scotland    False  "
      ]
     },
     "execution_count": 20,
     "metadata": {},
     "output_type": "execute_result"
    }
   ],
   "source": [
    "df.head(5)"
   ]
  },
  {
   "cell_type": "markdown",
   "metadata": {},
   "source": [
    "# Handling Outliers\n",
    "\n",
    "> What is an outlier? \n",
    "\n",
    "An outlier is an observation of a data point that lies an abnormal distance from other values in a given population\n",
    "In data science, we often want to make assumptions about a specific population. Extreme values, however, can have a significant impact on conclusions drawn from data or machine learning models. With outlier detection and treatment, anomalous observations are viewed as part of different populations to ensure stable findings for the population of interest.. "
   ]
  },
  {
   "cell_type": "markdown",
   "metadata": {},
   "source": [
    "#### It is pretty useless to count those teams that hardly played any matches over ALL these years! So getting the count and removing some of them would be good.."
   ]
  },
  {
   "cell_type": "code",
   "execution_count": 21,
   "metadata": {},
   "outputs": [
    {
     "data": {
      "text/plain": [
       "Brazil                       583\n",
       "Argentina                    560\n",
       "Mexico                       528\n",
       "Germany                      520\n",
       "England                      515\n",
       "                            ... \n",
       "Central Spain                  1\n",
       "Crimea                         1\n",
       "Saint Pierre and Miquelon      1\n",
       "Saint Helena                   1\n",
       "Chameria                       1\n",
       "Name: home_team, Length: 308, dtype: int64"
      ]
     },
     "execution_count": 21,
     "metadata": {},
     "output_type": "execute_result"
    }
   ],
   "source": [
    "df['home_team'].value_counts()"
   ]
  },
  {
   "cell_type": "code",
   "execution_count": 22,
   "metadata": {},
   "outputs": [],
   "source": [
    "#teams like Chameria played 1 out of all the matches! It adds no value to our data.."
   ]
  },
  {
   "cell_type": "code",
   "execution_count": 23,
   "metadata": {},
   "outputs": [
    {
     "data": {
      "text/plain": [
       "array([[<AxesSubplot:title={'center':'home_score'}>]], dtype=object)"
      ]
     },
     "execution_count": 23,
     "metadata": {},
     "output_type": "execute_result"
    },
    {
     "data": {
      "image/png": "[encoded data removed]",
      "text/plain": [
       "<Figure size 432x288 with 1 Axes>"
      ]
     },
     "metadata": {
      "needs_background": "light"
     },
     "output_type": "display_data"
    }
   ],
   "source": [
    "df.hist('home_score')"
   ]
  },
  {
   "cell_type": "code",
   "execution_count": 24,
   "metadata": {},
   "outputs": [],
   "source": [
    "home_dict = df['home_team'].value_counts().to_dict()"
   ]
  },
  {
   "cell_type": "code",
   "execution_count": 25,
   "metadata": {},
   "outputs": [],
   "source": [
    "away_dict = df['away_team'].value_counts().to_dict()"
   ]
  },
  {
   "cell_type": "code",
   "execution_count": 26,
   "metadata": {},
   "outputs": [
    {
     "name": "stdout",
     "output_type": "stream",
     "text": [
      "{'Brazil': 1004, 'Argentina': 1001, 'Mexico': 895, 'Germany': 972, 'England': 1034, 'Sweden': 1041, 'France': 862, 'South Korea': 886, 'Hungary': 951, 'Italy': 825, 'United States': 707, 'Austria': 809, 'Netherlands': 807, 'Belgium': 791, 'Switzerland': 820, 'Denmark': 819, 'Norway': 821, 'Chile': 782, 'Poland': 837, 'Scotland': 800, 'Malaysia': 666, 'Japan': 660, 'Egypt': 641, 'Saudi Arabia': 635, 'Kenya': 654, 'Spain': 718, 'Uruguay': 904, 'China PR': 602, 'Malawi': 579, 'Finland': 766, 'Romania': 711, 'Indonesia': 571, 'Kuwait': 581, 'Portugal': 635, 'Thailand': 662, 'Wales': 678, 'Qatar': 553, 'Northern Ireland': 661, 'Republic of Ireland': 583, 'Costa Rica': 625, 'Trinidad and Tobago': 676, 'Russia': 715, 'Zambia': 739, 'Tunisia': 592, 'Bulgaria': 686, 'United Arab Emirates': 539, 'Bahrain': 505, 'Singapore': 566, 'Australia': 525, 'Greece': 582, 'Algeria': 515, 'El Salvador': 522, 'Jamaica': 578, 'Uganda': 632, 'Peru': 646, 'Morocco': 547, 'Ghana': 609, 'Iran': 509, 'Turkey': 589, 'Iraq': 562, 'Ivory Coast': 577, 'Honduras': 532, 'Oman': 462, 'Nigeria': 587, 'Paraguay': 735, 'Colombia': 570, 'Tanzania': 540, 'Cameroon': 546, 'Israel': 444, 'Estonia': 499, 'India': 427, 'Guatemala': 458, 'Bolivia': 478, 'Ecuador': 534, 'South Africa': 422, 'Hong Kong': 382, 'Senegal': 548, 'Haiti': 461, 'Luxembourg': 420, 'Czechoslovakia': 497, 'Malta': 415, 'Myanmar': 366, 'Mali': 509, 'Ethiopia': 372, 'Jordan': 410, 'Iceland': 465, 'Cyprus': 380, 'Panama': 449, 'Guinea': 477, 'Latvia': 415, 'DR Congo': 472, 'Zimbabwe': 473, 'Yugoslavia': 481, 'Libya': 346, 'Burkina Faso': 398, 'Congo': 371, 'Gabon': 351, 'Albania': 349, 'Canada': 398, 'Angola': 366, 'Sudan': 410, 'Venezuela': 399, 'Croatia': 341, 'Curaçao': 340, 'Lithuania': 386, 'Barbados': 268, 'Suriname': 355, 'Togo': 395, 'Botswana': 288, 'Czech Republic': 320, 'Mozambique': 324, 'Martinique': 307, 'Syria': 416, 'Fiji': 221, 'New Zealand': 366, 'Ukraine': 291, 'Slovakia': 313, 'Cuba': 342, 'Guyana': 269, 'Lebanon': 284, 'Liberia': 254, 'Benin': 267, 'New Caledonia': 227, 'Rwanda': 252, 'Lesotho': 257, 'German DR': 298, 'Slovenia': 265, 'Cambodia': 235, 'North Macedonia': 256, 'Guadeloupe': 241, 'North Korea': 340, 'Uzbekistan': 285, 'Gambia': 221, 'Belarus': 267, 'Faroe Islands': 242, 'Azerbaijan': 263, 'Bangladesh': 224, 'Madagascar': 231, 'Vietnam': 210, 'Eswatini': 239, 'Georgia': 257, 'Serbia': 292, 'Bosnia and Herzegovina': 238, 'Namibia': 244, 'Antigua and Barbuda': 200, 'Sierra Leone': 259, 'Armenia': 226, 'Grenada': 219, 'Moldova': 252, 'Mauritius': 250, 'Saint Kitts and Nevis': 185, 'Philippines': 236, 'Yemen': 230, 'Niger': 218, 'Liechtenstein': 214, 'Kazakhstan': 213, 'Dominica': 186, 'Nepal': 191, 'Cape Verde': 175, 'Mauritania': 222, 'Tahiti': 210, 'Sri Lanka': 208, 'Andorra': 182, 'Saint Lucia': 199, 'Bermuda': 158, 'San Marino': 179, 'Burundi': 193, 'Maldives': 166, 'Guinea-Bissau': 153, 'Solomon Islands': 170, 'Pakistan': 192, 'Laos': 163, 'Palestine': 193, 'French Guiana': 159, 'Dominican Republic': 119, 'Equatorial Guinea': 131, 'Montenegro': 125, 'Saint Vincent and the Grenadines': 151, 'Vanuatu': 174, 'Aruba': 124, 'Kyrgyzstan': 151, 'Tajikistan': 153, 'Macau': 128, 'Gibraltar': 114, 'Zanzibar': 205, 'Turkmenistan': 140, 'Cayman Islands': 95, 'Chad': 112, 'Puerto Rico': 123, 'Papua New Guinea': 115, 'Central African Republic': 98, 'Nicaragua': 162, 'Seychelles': 115, 'Vietnam Republic': 157, 'Jersey': 82, 'Guam': 103, 'Djibouti': 94, 'Somalia': 109, 'British Virgin Islands': 95, 'Réunion': 81, 'Afghanistan': 116, 'Catalonia': 48, 'Guernsey': 77, 'Kosovo': 58, 'Belize': 82, 'Taiwan': 174, 'Basque Country': 58, 'Comoros': 65, 'Samoa': 51, 'Greenland': 73, 'Ynys Môn': 61, 'Padania': 43, 'Åland Islands': 46, 'Bhutan': 81, 'Brunei': 73, 'Isle of Wight': 44, 'Eritrea': 72, 'Mongolia': 76, 'South Sudan': 50, 'United States Virgin Islands': 58, 'American Samoa': 48, 'Tonga': 56, 'Isle of Man': 49, 'São Tomé and Príncipe': 48, 'Anguilla': 65, 'Shetland': 51, 'Northern Cyprus': 34, 'Bahamas': 41, 'Gotland': 30, 'Saint Martin': 44, 'Abkhazia': 28, 'Sápmi': 26, 'Montserrat': 45, 'Cook Islands': 43, 'Sint Maarten': 34, 'Saare County': 35, 'East Timor': 51, 'Iraqi Kurdistan': 27, 'Orkney': 21, 'Andalusia': 13, 'Frøya': 30, 'Menorca': 21, 'Rhodes': 18, 'Barawa': 12, 'Tuvalu': 34, 'Western Isles': 28, 'Falkland Islands': 29, 'Turks and Caicos Islands': 30, 'Northern Mariana Islands': 24, 'Székely Land': 23, 'Occitania': 18, 'Brittany': 12, 'Silesia': 8, 'Ellan Vannin': 17, 'Hitra': 19, 'Bonaire': 21, 'Kernow': 11, 'Corsica': 9, 'Provence': 17, 'United Koreans in Japan': 11, 'Artsakh': 11, 'Galicia': 9, 'Tamil Eelam': 17, 'South Ossetia': 14, 'Alderney': 19, 'Mayotte': 18, 'Saarland': 9, 'Yorkshire': 7, 'Kiribati': 11, 'Kárpátalja': 10, 'Chagos Islands': 11, 'North Vietnam': 24, 'Western Armenia': 16, 'County of Nice': 9, 'Canary Islands': 4, 'Darfur': 7, 'Tibet': 13, 'Panjab': 12, 'Republic of St. Pauli': 4, 'Monaco': 12, 'Wallis Islands and Futuna': 24, 'Arameans Suryoye': 10, 'Timor-Leste': 9, 'Gozo': 6, 'Găgăuzia': 3, 'Western Sahara': 5, 'Matabeleland': 5, 'Yemen DPR': 24, 'Micronesia': 7, 'Parishes of Jersey': 3, 'Felvidék': 8, 'Palau': 2, 'Manchukuo': 3, 'Cascadia': 7, 'Somaliland': 5, 'Niue': 2, 'Vatican City': 6, 'Raetia': 8, 'Sark': 4, 'Western Australia': 32, 'Kabylia': 6, 'Madrid': 1, 'Romani people': 3, 'Central Spain': 2, 'Crimea': 5, 'Saint Pierre and Miquelon': 7, 'Saint Helena': 4, 'Chameria': 5, 'Two Sicilies': 4, 'Asturias': 1, 'Surrey': 1}\n"
     ]
    }
   ],
   "source": [
    "from collections import Counter\n",
    "a_counter = Counter(home_dict)\n",
    "b_counter = Counter(away_dict)\n",
    "add_dict = a_counter + b_counter\n",
    "total_dict = dict(add_dict)\n",
    "print(total_dict)"
   ]
  },
  {
   "cell_type": "code",
   "execution_count": 27,
   "metadata": {},
   "outputs": [],
   "source": [
    "total_games = pd.DataFrame(list(total_dict.items()),columns = ['Country','count_of_games'])"
   ]
  },
  {
   "cell_type": "code",
   "execution_count": 28,
   "metadata": {},
   "outputs": [
    {
     "data": {
      "text/html": [
       "<div>\n",
       "<style scoped>\n",
       "    .dataframe tbody tr th:only-of-type {\n",
       "        vertical-align: middle;\n",
       "    }\n",
       "\n",
       "    .dataframe tbody tr th {\n",
       "        vertical-align: top;\n",
       "    }\n",
       "\n",
       "    .dataframe thead th {\n",
       "        text-align: right;\n",
       "    }\n",
       "</style>\n",
       "<table border=\"1\" class=\"dataframe\">\n",
       "  <thead>\n",
       "    <tr style=\"text-align: right;\">\n",
       "      <th></th>\n",
       "      <th>Country</th>\n",
       "      <th>count_of_games</th>\n",
       "    </tr>\n",
       "  </thead>\n",
       "  <tbody>\n",
       "    <tr>\n",
       "      <th>301</th>\n",
       "      <td>Madrid</td>\n",
       "      <td>1</td>\n",
       "    </tr>\n",
       "    <tr>\n",
       "      <th>302</th>\n",
       "      <td>Romani people</td>\n",
       "      <td>3</td>\n",
       "    </tr>\n",
       "    <tr>\n",
       "      <th>303</th>\n",
       "      <td>Central Spain</td>\n",
       "      <td>2</td>\n",
       "    </tr>\n",
       "    <tr>\n",
       "      <th>304</th>\n",
       "      <td>Crimea</td>\n",
       "      <td>5</td>\n",
       "    </tr>\n",
       "    <tr>\n",
       "      <th>305</th>\n",
       "      <td>Saint Pierre and Miquelon</td>\n",
       "      <td>7</td>\n",
       "    </tr>\n",
       "    <tr>\n",
       "      <th>306</th>\n",
       "      <td>Saint Helena</td>\n",
       "      <td>4</td>\n",
       "    </tr>\n",
       "    <tr>\n",
       "      <th>307</th>\n",
       "      <td>Chameria</td>\n",
       "      <td>5</td>\n",
       "    </tr>\n",
       "    <tr>\n",
       "      <th>308</th>\n",
       "      <td>Two Sicilies</td>\n",
       "      <td>4</td>\n",
       "    </tr>\n",
       "    <tr>\n",
       "      <th>309</th>\n",
       "      <td>Asturias</td>\n",
       "      <td>1</td>\n",
       "    </tr>\n",
       "    <tr>\n",
       "      <th>310</th>\n",
       "      <td>Surrey</td>\n",
       "      <td>1</td>\n",
       "    </tr>\n",
       "  </tbody>\n",
       "</table>\n",
       "</div>"
      ],
      "text/plain": [
       "                       Country  count_of_games\n",
       "301                     Madrid               1\n",
       "302              Romani people               3\n",
       "303              Central Spain               2\n",
       "304                     Crimea               5\n",
       "305  Saint Pierre and Miquelon               7\n",
       "306               Saint Helena               4\n",
       "307                   Chameria               5\n",
       "308               Two Sicilies               4\n",
       "309                   Asturias               1\n",
       "310                     Surrey               1"
      ]
     },
     "execution_count": 28,
     "metadata": {},
     "output_type": "execute_result"
    }
   ],
   "source": [
    "total_games.tail(10)"
   ]
  },
  {
   "cell_type": "code",
   "execution_count": 29,
   "metadata": {},
   "outputs": [
    {
     "name": "stderr",
     "output_type": "stream",
     "text": [
      "C:\\Users\\19293\\AppData\\Local\\Continuum\\anaconda3\\lib\\site-packages\\seaborn\\distributions.py:2619: FutureWarning: `distplot` is a deprecated function and will be removed in a future version. Please adapt your code to use either `displot` (a figure-level function with similar flexibility) or `histplot` (an axes-level function for histograms).\n",
      "  warnings.warn(msg, FutureWarning)\n"
     ]
    },
    {
     "data": {
      "image/png": "[encoded data removed]",
      "text/plain": [
       "<Figure size 1152x360 with 1 Axes>"
      ]
     },
     "metadata": {
      "needs_background": "light"
     },
     "output_type": "display_data"
    }
   ],
   "source": [
    "import seaborn as sns\n",
    "plt.figure(figsize=(16,5))\n",
    "plt.subplot(1,2,1)\n",
    "sns.distplot(total_games['count_of_games'], bins = 20)\n",
    "plt.show()"
   ]
  },
  {
   "cell_type": "code",
   "execution_count": 30,
   "metadata": {},
   "outputs": [
    {
     "name": "stderr",
     "output_type": "stream",
     "text": [
      "C:\\Users\\19293\\AppData\\Local\\Continuum\\anaconda3\\lib\\site-packages\\seaborn\\_decorators.py:43: FutureWarning: Pass the following variable as a keyword arg: x. From version 0.12, the only valid positional argument will be `data`, and passing other arguments without an explicit keyword will result in an error or misinterpretation.\n",
      "  FutureWarning\n"
     ]
    },
    {
     "data": {
      "image/png": "[encoded data removed]",
      "text/plain": [
       "<Figure size 432x288 with 1 Axes>"
      ]
     },
     "metadata": {
      "needs_background": "light"
     },
     "output_type": "display_data"
    }
   ],
   "source": [
    "sns.boxplot(total_games['count_of_games'])\n",
    "plt.show()"
   ]
  },
  {
   "cell_type": "markdown",
   "metadata": {},
   "source": [
    "Sometimes box plots might not give you the information you are looking for, it is the intelligence of a data scientist to understand what the data represetns... something machines cannot do!"
   ]
  },
  {
   "cell_type": "code",
   "execution_count": 31,
   "metadata": {},
   "outputs": [
    {
     "data": {
      "text/html": [
       "<div>\n",
       "<style scoped>\n",
       "    .dataframe tbody tr th:only-of-type {\n",
       "        vertical-align: middle;\n",
       "    }\n",
       "\n",
       "    .dataframe tbody tr th {\n",
       "        vertical-align: top;\n",
       "    }\n",
       "\n",
       "    .dataframe thead th {\n",
       "        text-align: right;\n",
       "    }\n",
       "</style>\n",
       "<table border=\"1\" class=\"dataframe\">\n",
       "  <thead>\n",
       "    <tr style=\"text-align: right;\">\n",
       "      <th></th>\n",
       "      <th>count_of_games</th>\n",
       "    </tr>\n",
       "  </thead>\n",
       "  <tbody>\n",
       "    <tr>\n",
       "      <th>count</th>\n",
       "      <td>311.000000</td>\n",
       "    </tr>\n",
       "    <tr>\n",
       "      <th>mean</th>\n",
       "      <td>275.877814</td>\n",
       "    </tr>\n",
       "    <tr>\n",
       "      <th>std</th>\n",
       "      <td>265.686484</td>\n",
       "    </tr>\n",
       "    <tr>\n",
       "      <th>min</th>\n",
       "      <td>1.000000</td>\n",
       "    </tr>\n",
       "    <tr>\n",
       "      <th>25%</th>\n",
       "      <td>34.000000</td>\n",
       "    </tr>\n",
       "    <tr>\n",
       "      <th>50%</th>\n",
       "      <td>210.000000</td>\n",
       "    </tr>\n",
       "    <tr>\n",
       "      <th>75%</th>\n",
       "      <td>463.500000</td>\n",
       "    </tr>\n",
       "    <tr>\n",
       "      <th>max</th>\n",
       "      <td>1041.000000</td>\n",
       "    </tr>\n",
       "  </tbody>\n",
       "</table>\n",
       "</div>"
      ],
      "text/plain": [
       "       count_of_games\n",
       "count      311.000000\n",
       "mean       275.877814\n",
       "std        265.686484\n",
       "min          1.000000\n",
       "25%         34.000000\n",
       "50%        210.000000\n",
       "75%        463.500000\n",
       "max       1041.000000"
      ]
     },
     "execution_count": 31,
     "metadata": {},
     "output_type": "execute_result"
    }
   ],
   "source": [
    "total_games.describe()"
   ]
  },
  {
   "cell_type": "markdown",
   "metadata": {},
   "source": [
    "#### Since 25% accounts for 34 total games, taking lower bound 30 as the limit and removing teams that played A TOTAL of less than 30 matches"
   ]
  },
  {
   "cell_type": "code",
   "execution_count": 32,
   "metadata": {},
   "outputs": [
    {
     "data": {
      "text/plain": [
       "72"
      ]
     },
     "execution_count": 32,
     "metadata": {},
     "output_type": "execute_result"
    }
   ],
   "source": [
    "len(total_games.loc[total_games['count_of_games']<30])"
   ]
  },
  {
   "cell_type": "code",
   "execution_count": 33,
   "metadata": {},
   "outputs": [
    {
     "data": {
      "image/png": "[encoded data removed]",
      "text/plain": [
       "<Figure size 1152x360 with 2 Axes>"
      ]
     },
     "metadata": {
      "needs_background": "light"
     },
     "output_type": "display_data"
    }
   ],
   "source": [
    "import seaborn as sns\n",
    "import warnings\n",
    "warnings.filterwarnings('ignore')\n",
    "plt.figure(figsize=(16,5))\n",
    "plt.subplot(1,2,1)\n",
    "sns.distplot(df['away_score'])\n",
    "plt.subplot(1,2,2)\n",
    "sns.distplot(df['home_score'])\n",
    "plt.show()"
   ]
  },
  {
   "cell_type": "code",
   "execution_count": 34,
   "metadata": {},
   "outputs": [],
   "source": [
    "less_played = total_games.loc[total_games['count_of_games']<30]"
   ]
  },
  {
   "cell_type": "code",
   "execution_count": 35,
   "metadata": {},
   "outputs": [],
   "source": [
    "#bad_played.sort_values(by='count_of_games').head(30)"
   ]
  },
  {
   "cell_type": "code",
   "execution_count": 36,
   "metadata": {},
   "outputs": [],
   "source": [
    "#taking only well played teams\n",
    "decent_played = total_games.loc[total_games['count_of_games']>30]"
   ]
  },
  {
   "cell_type": "code",
   "execution_count": 37,
   "metadata": {},
   "outputs": [
    {
     "data": {
      "text/plain": [
       "(236, 2)"
      ]
     },
     "execution_count": 37,
     "metadata": {},
     "output_type": "execute_result"
    }
   ],
   "source": [
    "decent_played.shape"
   ]
  },
  {
   "cell_type": "code",
   "execution_count": 38,
   "metadata": {},
   "outputs": [
    {
     "data": {
      "image/png": "[encoded data removed]",
      "text/plain": [
       "<Figure size 1152x360 with 1 Axes>"
      ]
     },
     "metadata": {
      "needs_background": "light"
     },
     "output_type": "display_data"
    }
   ],
   "source": [
    "plt.figure(figsize=(16,5))\n",
    "plt.subplot(1,2,1)\n",
    "sns.distplot(decent_played['count_of_games'], bins = 20)\n",
    "plt.show()"
   ]
  },
  {
   "cell_type": "code",
   "execution_count": 39,
   "metadata": {},
   "outputs": [],
   "source": [
    "#filtering data on those countries that played decent number of games\n",
    "\n",
    "list_of_countries = decent_played['Country'].to_list()"
   ]
  },
  {
   "cell_type": "code",
   "execution_count": 40,
   "metadata": {},
   "outputs": [],
   "source": [
    "df = df.loc[(df['home_team'].isin(list_of_countries)) | (df['away_team'].isin(list_of_countries))]"
   ]
  },
  {
   "cell_type": "code",
   "execution_count": 41,
   "metadata": {},
   "outputs": [
    {
     "data": {
      "text/plain": [
       "(42686, 9)"
      ]
     },
     "execution_count": 41,
     "metadata": {},
     "output_type": "execute_result"
    }
   ],
   "source": [
    "df.shape"
   ]
  },
  {
   "cell_type": "markdown",
   "metadata": {},
   "source": [
    "## Now let's handle outliers for the scores : home_score and away_score the traditional way.."
   ]
  },
  {
   "cell_type": "code",
   "execution_count": 42,
   "metadata": {},
   "outputs": [
    {
     "data": {
      "text/plain": [
       "<AxesSubplot:xlabel='home_score'>"
      ]
     },
     "execution_count": 42,
     "metadata": {},
     "output_type": "execute_result"
    },
    {
     "data": {
      "image/png": "[encoded data removed]",
      "text/plain": [
       "<Figure size 432x288 with 1 Axes>"
      ]
     },
     "metadata": {
      "needs_background": "light"
     },
     "output_type": "display_data"
    }
   ],
   "source": [
    "# Box Plot\n",
    "import seaborn as sns\n",
    "sns.boxplot(df['home_score'])"
   ]
  },
  {
   "cell_type": "code",
   "execution_count": 43,
   "metadata": {},
   "outputs": [],
   "source": [
    "# box plot tells us that scores above 20 are outliers"
   ]
  },
  {
   "cell_type": "code",
   "execution_count": 44,
   "metadata": {},
   "outputs": [],
   "source": [
    "df=df.reset_index()"
   ]
  },
  {
   "cell_type": "markdown",
   "metadata": {},
   "source": [
    "Next to its visual benefits, the box plot provides useful statistics to identify individual observations as outliers. The **Turkey method** distinguishes between possible and probable outliers. A possible outlier is located between the inner and the outer fence, whereas a probable outlier is located outside the outer fence.\n",
    "\n",
    "\n",
    "<img src=\"ipynb.images/turkey_method.jpg\" width=\"800\" height=\"400\">\n",
    "\n",
    "\n",
    "While the inner (often confused with the whiskers) and outer fence are usually not shown on the actual box plot, they can be calculated using the interquartile range (IQR) like this:"
   ]
  },
  {
   "cell_type": "code",
   "execution_count": 45,
   "metadata": {},
   "outputs": [],
   "source": [
    "# IQR for home score\n",
    "Q1 = np.percentile(df['home_score'], 25,\n",
    "                   interpolation = 'midpoint')\n",
    " \n",
    "Q3 = np.percentile(df['home_score'], 75,\n",
    "                   interpolation = 'midpoint')\n",
    "IQR = Q3 - Q1"
   ]
  },
  {
   "cell_type": "code",
   "execution_count": 46,
   "metadata": {},
   "outputs": [
    {
     "name": "stdout",
     "output_type": "stream",
     "text": [
      "Old Shape:  (42686, 10)\n"
     ]
    }
   ],
   "source": [
    "print(\"Old Shape: \", df.shape)\n",
    " \n",
    "# Upper bound\n",
    "upper = np.where(df['home_score'] >= (Q3+1.5*IQR))\n",
    "# Lower bound\n",
    "lower = np.where(df['home_score'] <= (Q1-1.5*IQR))"
   ]
  },
  {
   "cell_type": "code",
   "execution_count": 47,
   "metadata": {},
   "outputs": [
    {
     "data": {
      "text/plain": [
       "(array([], dtype=int64),)"
      ]
     },
     "execution_count": 47,
     "metadata": {},
     "output_type": "execute_result"
    }
   ],
   "source": [
    "lower"
   ]
  },
  {
   "cell_type": "code",
   "execution_count": 48,
   "metadata": {},
   "outputs": [
    {
     "name": "stdout",
     "output_type": "stream",
     "text": [
      "New Shape:  (37349, 10)\n"
     ]
    }
   ],
   "source": [
    " ''' Removing the Outliers '''\n",
    "df.drop(upper[0], inplace = True)\n",
    "df.drop(lower[0], inplace = True)\n",
    " \n",
    "print(\"New Shape: \", df.shape)"
   ]
  },
  {
   "cell_type": "code",
   "execution_count": 49,
   "metadata": {},
   "outputs": [],
   "source": [
    "df = df.reset_index()"
   ]
  },
  {
   "cell_type": "code",
   "execution_count": 50,
   "metadata": {},
   "outputs": [],
   "source": [
    "# IQR for away score\n",
    "Q1 = np.percentile(df['away_score'], 25,\n",
    "                   interpolation = 'midpoint')\n",
    " \n",
    "Q3 = np.percentile(df['away_score'], 75,\n",
    "                   interpolation = 'midpoint')\n",
    "IQR = Q3 - Q1"
   ]
  },
  {
   "cell_type": "code",
   "execution_count": 51,
   "metadata": {},
   "outputs": [
    {
     "name": "stdout",
     "output_type": "stream",
     "text": [
      "Old Shape:  (37349, 11)\n"
     ]
    }
   ],
   "source": [
    "print(\"Old Shape: \", df.shape)\n",
    " \n",
    "# Upper bound\n",
    "upper = np.where(df['away_score'] >= (Q3+1.5*IQR))\n",
    "# Lower bound\n",
    "lower = np.where(df['away_score'] <= (Q1-1.5*IQR))\n"
   ]
  },
  {
   "cell_type": "code",
   "execution_count": 52,
   "metadata": {},
   "outputs": [
    {
     "name": "stdout",
     "output_type": "stream",
     "text": [
      "New Shape:  (36268, 11)\n"
     ]
    }
   ],
   "source": [
    " ''' Removing the Outliers '''\n",
    "df.drop(upper[0], inplace = True)\n",
    "df.drop(lower[0], inplace = True)\n",
    " \n",
    "print(\"New Shape: \", df.shape)"
   ]
  },
  {
   "cell_type": "markdown",
   "metadata": {},
   "source": [
    "## Now that our data is free of outliers, let's move forward with the distributions\n",
    "\n",
    "We have to look into the games where Europe played against Non-European countries. To do this, we make a list of all \n",
    "European countries and replace existing countries with either 'Europe' or 'Not Europe' if the condition is satisfied"
   ]
  },
  {
   "cell_type": "code",
   "execution_count": 53,
   "metadata": {},
   "outputs": [],
   "source": [
    "#df.describe"
   ]
  },
  {
   "cell_type": "code",
   "execution_count": 54,
   "metadata": {},
   "outputs": [],
   "source": [
    "euro_countries = ['Germany', 'Italy', 'France', 'United Kingdom', 'Netherlands', 'Switzerland', 'Greece', 'Poland', 'Austria', 'Denmark', 'Sweden', 'Belgium', 'Ireland', 'Ukraine', 'Croatia', 'Norway', 'Malta', 'Finland', 'Romania', 'Czechia', 'Iceland', 'Hungary', 'Serbia', 'Belarus', 'Bulgaria', 'Cyprus', 'Albania', 'Luxembourg', 'Lithuania', 'Slovenia', 'Moldova', 'Montenegro', 'Kosovo', 'Liechtenstein', 'Monaco', 'Estonia', 'Latvia', 'Andorra', 'Slovakia', 'North Macedonia', 'Vatican City', 'San Marino', 'Gibraltar', 'Jersey']"
   ]
  },
  {
   "cell_type": "code",
   "execution_count": 55,
   "metadata": {},
   "outputs": [],
   "source": [
    "df = df.drop(['neutral'], axis = 1)"
   ]
  },
  {
   "cell_type": "code",
   "execution_count": 56,
   "metadata": {},
   "outputs": [],
   "source": [
    "df['home_team'] = np.where(df['home_team'].isin(euro_countries), 'Europe', 'Not Europe')"
   ]
  },
  {
   "cell_type": "code",
   "execution_count": 57,
   "metadata": {},
   "outputs": [],
   "source": [
    "df['away_team'] = np.where(df['away_team'].isin(euro_countries), 'Europe', 'Not Europe')"
   ]
  },
  {
   "cell_type": "code",
   "execution_count": 58,
   "metadata": {},
   "outputs": [
    {
     "data": {
      "text/plain": [
       "6429"
      ]
     },
     "execution_count": 58,
     "metadata": {},
     "output_type": "execute_result"
    }
   ],
   "source": [
    "len(df.loc[df['home_team']!=df['away_team']])"
   ]
  },
  {
   "cell_type": "code",
   "execution_count": 59,
   "metadata": {},
   "outputs": [],
   "source": [
    "#taking only those rows where EU plays against rest of the world \n",
    "df_euro_vs_non_euro = df.loc[df['home_team']!=df['away_team']]"
   ]
  },
  {
   "cell_type": "code",
   "execution_count": 60,
   "metadata": {},
   "outputs": [
    {
     "data": {
      "text/html": [
       "<div>\n",
       "<style scoped>\n",
       "    .dataframe tbody tr th:only-of-type {\n",
       "        vertical-align: middle;\n",
       "    }\n",
       "\n",
       "    .dataframe tbody tr th {\n",
       "        vertical-align: top;\n",
       "    }\n",
       "\n",
       "    .dataframe thead th {\n",
       "        text-align: right;\n",
       "    }\n",
       "</style>\n",
       "<table border=\"1\" class=\"dataframe\">\n",
       "  <thead>\n",
       "    <tr style=\"text-align: right;\">\n",
       "      <th></th>\n",
       "      <th>level_0</th>\n",
       "      <th>index</th>\n",
       "      <th>date</th>\n",
       "      <th>home_team</th>\n",
       "      <th>away_team</th>\n",
       "      <th>home_score</th>\n",
       "      <th>away_score</th>\n",
       "      <th>tournament</th>\n",
       "      <th>city</th>\n",
       "      <th>country</th>\n",
       "    </tr>\n",
       "  </thead>\n",
       "  <tbody>\n",
       "    <tr>\n",
       "      <th>93</th>\n",
       "      <td>153</td>\n",
       "      <td>153</td>\n",
       "      <td>1903-04-05</td>\n",
       "      <td>Europe</td>\n",
       "      <td>Not Europe</td>\n",
       "      <td>2</td>\n",
       "      <td>1</td>\n",
       "      <td>Friendly</td>\n",
       "      <td>Budapest</td>\n",
       "      <td>Hungary</td>\n",
       "    </tr>\n",
       "    <tr>\n",
       "      <th>117</th>\n",
       "      <td>182</td>\n",
       "      <td>182</td>\n",
       "      <td>1906-04-01</td>\n",
       "      <td>Europe</td>\n",
       "      <td>Not Europe</td>\n",
       "      <td>1</td>\n",
       "      <td>1</td>\n",
       "      <td>Friendly</td>\n",
       "      <td>Budapest</td>\n",
       "      <td>Hungary</td>\n",
       "    </tr>\n",
       "    <tr>\n",
       "      <th>161</th>\n",
       "      <td>243</td>\n",
       "      <td>243</td>\n",
       "      <td>1909-05-29</td>\n",
       "      <td>Europe</td>\n",
       "      <td>Not Europe</td>\n",
       "      <td>2</td>\n",
       "      <td>4</td>\n",
       "      <td>Friendly</td>\n",
       "      <td>Budapest</td>\n",
       "      <td>Hungary</td>\n",
       "    </tr>\n",
       "    <tr>\n",
       "      <th>232</th>\n",
       "      <td>334</td>\n",
       "      <td>334</td>\n",
       "      <td>1912-07-03</td>\n",
       "      <td>Europe</td>\n",
       "      <td>Not Europe</td>\n",
       "      <td>2</td>\n",
       "      <td>1</td>\n",
       "      <td>Friendly</td>\n",
       "      <td>Stockholm</td>\n",
       "      <td>Sweden</td>\n",
       "    </tr>\n",
       "    <tr>\n",
       "      <th>243</th>\n",
       "      <td>347</td>\n",
       "      <td>347</td>\n",
       "      <td>1912-12-01</td>\n",
       "      <td>Not Europe</td>\n",
       "      <td>Europe</td>\n",
       "      <td>1</td>\n",
       "      <td>0</td>\n",
       "      <td>Friendly</td>\n",
       "      <td>Barcelona</td>\n",
       "      <td>Spain</td>\n",
       "    </tr>\n",
       "  </tbody>\n",
       "</table>\n",
       "</div>"
      ],
      "text/plain": [
       "     level_0  index        date   home_team   away_team  home_score  \\\n",
       "93       153    153  1903-04-05      Europe  Not Europe           2   \n",
       "117      182    182  1906-04-01      Europe  Not Europe           1   \n",
       "161      243    243  1909-05-29      Europe  Not Europe           2   \n",
       "232      334    334  1912-07-03      Europe  Not Europe           2   \n",
       "243      347    347  1912-12-01  Not Europe      Europe           1   \n",
       "\n",
       "     away_score tournament       city  country  \n",
       "93            1   Friendly   Budapest  Hungary  \n",
       "117           1   Friendly   Budapest  Hungary  \n",
       "161           4   Friendly   Budapest  Hungary  \n",
       "232           1   Friendly  Stockholm   Sweden  \n",
       "243           0   Friendly  Barcelona    Spain  "
      ]
     },
     "execution_count": 60,
     "metadata": {},
     "output_type": "execute_result"
    }
   ],
   "source": [
    "df_euro_vs_non_euro.head()"
   ]
  },
  {
   "cell_type": "markdown",
   "metadata": {},
   "source": [
    "Since away_score/home_score column has both Europe and Non-Europe scores, we make 2 new derived columns: Euro_score and non_euro_score which will have entirely either Europe score or Non-Europe score.\n",
    "\n",
    "This will help us plot ONLY EU score or ONLY Non EU score and look into their distributions and make our data more clear and concise."
   ]
  },
  {
   "cell_type": "code",
   "execution_count": 61,
   "metadata": {},
   "outputs": [],
   "source": [
    "df_euro_vs_non_euro['euro_score'] = np.where(df_euro_vs_non_euro['home_team']=='Europe', df_euro_vs_non_euro['home_score'], df_euro_vs_non_euro['away_score'])"
   ]
  },
  {
   "cell_type": "code",
   "execution_count": 62,
   "metadata": {},
   "outputs": [],
   "source": [
    "df_euro_vs_non_euro['non_euro_score'] = np.where(df_euro_vs_non_euro['home_team']!='Europe', df_euro_vs_non_euro['home_score'], df_euro_vs_non_euro['away_score'])"
   ]
  },
  {
   "cell_type": "code",
   "execution_count": 63,
   "metadata": {},
   "outputs": [],
   "source": [
    "df_new = df_euro_vs_non_euro[['date', 'home_team', 'away_team', 'euro_score', 'non_euro_score']]"
   ]
  },
  {
   "cell_type": "code",
   "execution_count": 64,
   "metadata": {},
   "outputs": [
    {
     "data": {
      "text/plain": [
       "<AxesSubplot:>"
      ]
     },
     "execution_count": 64,
     "metadata": {},
     "output_type": "execute_result"
    },
    {
     "data": {
      "image/png": "[encoded data removed]",
      "text/plain": [
       "<Figure size 432x288 with 1 Axes>"
      ]
     },
     "metadata": {
      "needs_background": "light"
     },
     "output_type": "display_data"
    }
   ],
   "source": [
    "df_new['non_euro_score'].hist()"
   ]
  },
  {
   "cell_type": "code",
   "execution_count": 65,
   "metadata": {},
   "outputs": [
    {
     "data": {
      "text/plain": [
       "<AxesSubplot:>"
      ]
     },
     "execution_count": 65,
     "metadata": {},
     "output_type": "execute_result"
    },
    {
     "data": {
      "image/png": "[encoded data removed]",
      "text/plain": [
       "<Figure size 432x288 with 1 Axes>"
      ]
     },
     "metadata": {
      "needs_background": "light"
     },
     "output_type": "display_data"
    }
   ],
   "source": [
    "df_new['euro_score'].hist()"
   ]
  },
  {
   "cell_type": "code",
   "execution_count": 66,
   "metadata": {},
   "outputs": [
    {
     "data": {
      "text/plain": [
       "euro_score        1.182610\n",
       "non_euro_score    1.208742\n",
       "dtype: float64"
      ]
     },
     "execution_count": 66,
     "metadata": {},
     "output_type": "execute_result"
    }
   ],
   "source": [
    "df_new.mean()"
   ]
  },
  {
   "cell_type": "code",
   "execution_count": 67,
   "metadata": {},
   "outputs": [
    {
     "data": {
      "image/png": "[encoded data removed]",
      "text/plain": [
       "<Figure size 432x288 with 1 Axes>"
      ]
     },
     "metadata": {
      "needs_background": "light"
     },
     "output_type": "display_data"
    }
   ],
   "source": [
    "from scipy.stats import skellam\n",
    "import matplotlib.pyplot as plt\n",
    "fig, ax = plt.subplots(1, 1)"
   ]
  },
  {
   "cell_type": "code",
   "execution_count": 112,
   "metadata": {},
   "outputs": [
    {
     "data": {
      "text/html": [
       "<div>\n",
       "<style scoped>\n",
       "    .dataframe tbody tr th:only-of-type {\n",
       "        vertical-align: middle;\n",
       "    }\n",
       "\n",
       "    .dataframe tbody tr th {\n",
       "        vertical-align: top;\n",
       "    }\n",
       "\n",
       "    .dataframe thead th {\n",
       "        text-align: right;\n",
       "    }\n",
       "</style>\n",
       "<table border=\"1\" class=\"dataframe\">\n",
       "  <thead>\n",
       "    <tr style=\"text-align: right;\">\n",
       "      <th></th>\n",
       "      <th>date</th>\n",
       "      <th>euro_score</th>\n",
       "      <th>non_euro_score</th>\n",
       "      <th>year</th>\n",
       "      <th>Euro_Team</th>\n",
       "      <th>Other_Team</th>\n",
       "      <th>diff</th>\n",
       "    </tr>\n",
       "  </thead>\n",
       "  <tbody>\n",
       "    <tr>\n",
       "      <th>93</th>\n",
       "      <td>1903-04-05</td>\n",
       "      <td>2</td>\n",
       "      <td>1</td>\n",
       "      <td>1903</td>\n",
       "      <td>Europe</td>\n",
       "      <td>Not Europe</td>\n",
       "      <td>1</td>\n",
       "    </tr>\n",
       "    <tr>\n",
       "      <th>117</th>\n",
       "      <td>1906-04-01</td>\n",
       "      <td>1</td>\n",
       "      <td>1</td>\n",
       "      <td>1906</td>\n",
       "      <td>Europe</td>\n",
       "      <td>Not Europe</td>\n",
       "      <td>0</td>\n",
       "    </tr>\n",
       "    <tr>\n",
       "      <th>161</th>\n",
       "      <td>1909-05-29</td>\n",
       "      <td>2</td>\n",
       "      <td>4</td>\n",
       "      <td>1909</td>\n",
       "      <td>Europe</td>\n",
       "      <td>Not Europe</td>\n",
       "      <td>2</td>\n",
       "    </tr>\n",
       "    <tr>\n",
       "      <th>232</th>\n",
       "      <td>1912-07-03</td>\n",
       "      <td>2</td>\n",
       "      <td>1</td>\n",
       "      <td>1912</td>\n",
       "      <td>Europe</td>\n",
       "      <td>Not Europe</td>\n",
       "      <td>1</td>\n",
       "    </tr>\n",
       "    <tr>\n",
       "      <th>243</th>\n",
       "      <td>1912-12-01</td>\n",
       "      <td>0</td>\n",
       "      <td>1</td>\n",
       "      <td>1912</td>\n",
       "      <td>Europe</td>\n",
       "      <td>Not Europe</td>\n",
       "      <td>1</td>\n",
       "    </tr>\n",
       "  </tbody>\n",
       "</table>\n",
       "</div>"
      ],
      "text/plain": [
       "          date  euro_score  non_euro_score  year Euro_Team  Other_Team  diff\n",
       "93  1903-04-05           2               1  1903    Europe  Not Europe     1\n",
       "117 1906-04-01           1               1  1906    Europe  Not Europe     0\n",
       "161 1909-05-29           2               4  1909    Europe  Not Europe     2\n",
       "232 1912-07-03           2               1  1912    Europe  Not Europe     1\n",
       "243 1912-12-01           0               1  1912    Europe  Not Europe     1"
      ]
     },
     "execution_count": 112,
     "metadata": {},
     "output_type": "execute_result"
    }
   ],
   "source": [
    "df_new.head()"
   ]
  },
  {
   "cell_type": "markdown",
   "metadata": {},
   "source": [
    "## Modelling skellam using MOM"
   ]
  },
  {
   "cell_type": "code",
   "execution_count": 68,
   "metadata": {},
   "outputs": [],
   "source": [
    "mu1 = 1.18\n",
    "mu2 = 1.20"
   ]
  },
  {
   "cell_type": "code",
   "execution_count": 69,
   "metadata": {},
   "outputs": [],
   "source": [
    "from scipy.stats import skellam\n",
    "import matplotlib.pyplot as plt\n",
    "%matplotlib inline"
   ]
  },
  {
   "cell_type": "code",
   "execution_count": 70,
   "metadata": {},
   "outputs": [],
   "source": [
    "mean, var, skew, kurt = skellam.stats(mu1, mu2, moments='mvsk')"
   ]
  },
  {
   "cell_type": "code",
   "execution_count": 113,
   "metadata": {},
   "outputs": [
    {
     "data": {
      "text/plain": [
       "<matplotlib.collections.LineCollection at 0x1bb249b58c8>"
      ]
     },
     "execution_count": 113,
     "metadata": {},
     "output_type": "execute_result"
    },
    {
     "data": {
      "image/png": "[encoded data removed]",
      "text/plain": [
       "<Figure size 432x288 with 1 Axes>"
      ]
     },
     "metadata": {
      "needs_background": "light"
     },
     "output_type": "display_data"
    }
   ],
   "source": [
    "#fix by Pranshu Dixit for visual representation of skellam.ppf\n",
    "fig, ax = plt.subplots(1, 1)\n",
    "x = np.arange(skellam.ppf(0.01, mu1, mu2),\n",
    "              skellam.ppf(0.99, mu1, mu2))\n",
    "ax.plot(x, skellam.pmf(x, mu1, mu2), 'bo', ms=8, label='skellam pmf')\n",
    "ax.vlines(x, 0, skellam.pmf(x, mu1, mu2), colors='b', lw=5, alpha=0.5)"
   ]
  },
  {
   "cell_type": "code",
   "execution_count": 72,
   "metadata": {},
   "outputs": [],
   "source": [
    "rv = skellam(mu1, mu2)\n",
    "ax.vlines(x, 0, rv.pmf(x), colors='k', linestyles='-', lw=1,\n",
    "        label='frozen pmf')\n",
    "ax.legend(loc='best', frameon=False)\n",
    "plt.show()"
   ]
  },
  {
   "cell_type": "code",
   "execution_count": 73,
   "metadata": {},
   "outputs": [
    {
     "data": {
      "text/plain": [
       "True"
      ]
     },
     "execution_count": 73,
     "metadata": {},
     "output_type": "execute_result"
    }
   ],
   "source": [
    "#checking accuracy of cdf and ppf\n",
    "prob = skellam.cdf(x, mu1, mu2)\n",
    "np.allclose(x, skellam.ppf(prob, mu1, mu2))"
   ]
  },
  {
   "cell_type": "code",
   "execution_count": 74,
   "metadata": {},
   "outputs": [],
   "source": [
    "#generating random numbers from the distribution\n",
    "r = skellam.rvs(mu1, mu2, size=1000)\n",
    "#r"
   ]
  },
  {
   "cell_type": "markdown",
   "metadata": {},
   "source": [
    "Function to find changes that the difference in their score is 0 - i.e, Draw"
   ]
  },
  {
   "cell_type": "code",
   "execution_count": 75,
   "metadata": {},
   "outputs": [],
   "source": [
    "def prob():\n",
    "    if ~df_new['home_team'].equals(df_new['away_team']):\n",
    "        return skellam.pmf(0.0,  df_new.mean()[0],  df_new.mean()[1])"
   ]
  },
  {
   "cell_type": "code",
   "execution_count": 76,
   "metadata": {},
   "outputs": [
    {
     "data": {
      "text/plain": [
       "0.27718369529093473"
      ]
     },
     "execution_count": 76,
     "metadata": {},
     "output_type": "execute_result"
    }
   ],
   "source": [
    "prob()"
   ]
  },
  {
   "cell_type": "code",
   "execution_count": 77,
   "metadata": {},
   "outputs": [
    {
     "data": {
      "text/html": [
       "<div>\n",
       "<style scoped>\n",
       "    .dataframe tbody tr th:only-of-type {\n",
       "        vertical-align: middle;\n",
       "    }\n",
       "\n",
       "    .dataframe tbody tr th {\n",
       "        vertical-align: top;\n",
       "    }\n",
       "\n",
       "    .dataframe thead th {\n",
       "        text-align: right;\n",
       "    }\n",
       "</style>\n",
       "<table border=\"1\" class=\"dataframe\">\n",
       "  <thead>\n",
       "    <tr style=\"text-align: right;\">\n",
       "      <th></th>\n",
       "      <th>date</th>\n",
       "      <th>home_team</th>\n",
       "      <th>away_team</th>\n",
       "      <th>euro_score</th>\n",
       "      <th>non_euro_score</th>\n",
       "    </tr>\n",
       "  </thead>\n",
       "  <tbody>\n",
       "    <tr>\n",
       "      <th>93</th>\n",
       "      <td>1903-04-05</td>\n",
       "      <td>Europe</td>\n",
       "      <td>Not Europe</td>\n",
       "      <td>2</td>\n",
       "      <td>1</td>\n",
       "    </tr>\n",
       "    <tr>\n",
       "      <th>117</th>\n",
       "      <td>1906-04-01</td>\n",
       "      <td>Europe</td>\n",
       "      <td>Not Europe</td>\n",
       "      <td>1</td>\n",
       "      <td>1</td>\n",
       "    </tr>\n",
       "    <tr>\n",
       "      <th>161</th>\n",
       "      <td>1909-05-29</td>\n",
       "      <td>Europe</td>\n",
       "      <td>Not Europe</td>\n",
       "      <td>2</td>\n",
       "      <td>4</td>\n",
       "    </tr>\n",
       "    <tr>\n",
       "      <th>232</th>\n",
       "      <td>1912-07-03</td>\n",
       "      <td>Europe</td>\n",
       "      <td>Not Europe</td>\n",
       "      <td>2</td>\n",
       "      <td>1</td>\n",
       "    </tr>\n",
       "    <tr>\n",
       "      <th>243</th>\n",
       "      <td>1912-12-01</td>\n",
       "      <td>Not Europe</td>\n",
       "      <td>Europe</td>\n",
       "      <td>0</td>\n",
       "      <td>1</td>\n",
       "    </tr>\n",
       "  </tbody>\n",
       "</table>\n",
       "</div>"
      ],
      "text/plain": [
       "           date   home_team   away_team  euro_score  non_euro_score\n",
       "93   1903-04-05      Europe  Not Europe           2               1\n",
       "117  1906-04-01      Europe  Not Europe           1               1\n",
       "161  1909-05-29      Europe  Not Europe           2               4\n",
       "232  1912-07-03      Europe  Not Europe           2               1\n",
       "243  1912-12-01  Not Europe      Europe           0               1"
      ]
     },
     "execution_count": 77,
     "metadata": {},
     "output_type": "execute_result"
    }
   ],
   "source": [
    "df_new.head()"
   ]
  },
  {
   "cell_type": "markdown",
   "metadata": {},
   "source": [
    "## Skellam using bayesian approach with sklearn"
   ]
  },
  {
   "cell_type": "code",
   "execution_count": 78,
   "metadata": {},
   "outputs": [
    {
     "data": {
      "image/png": "[encoded data removed]",
      "text/plain": [
       "<Figure size 432x288 with 1 Axes>"
      ]
     },
     "metadata": {
      "needs_background": "light"
     },
     "output_type": "display_data"
    }
   ],
   "source": [
    "skellam_pred = [skellam.pmf(i, df_new.mean()[0],  df_new.mean()[1]) for i in range(-10,10)]\n",
    "\n",
    "plt.hist(df_new[['euro_score']].values - df_new[['non_euro_score']].values, range(-10,10), \n",
    "         alpha=0.7, label='Actual',density=True)\n",
    "plt.plot([i+0.5 for i in range(-10,10)], skellam_pred,\n",
    "                  linestyle='-', marker='o',label=\"Skellam\", color = '#CD5C5C')\n",
    "plt.legend(loc='upper right', fontsize=13)\n",
    "plt.xticks([i+0.5 for i in range(-10,10)],[i for i in range(-10,10)])\n",
    "plt.xlabel(\"Euro Goals - Non Euro Goals\",size=13)\n",
    "plt.ylabel(\"Proportion of Matches\",size=15)\n",
    "plt.title(\"Difference in Goals Scored \",size=14,fontweight='bold')\n",
    "plt.ylim([-0.004, 0.30])\n",
    "plt.tight_layout()\n",
    "plt.show()"
   ]
  },
  {
   "cell_type": "code",
   "execution_count": 79,
   "metadata": {},
   "outputs": [
    {
     "data": {
      "text/plain": [
       "[1.9105426102311516e-07,\n",
       " 1.6009267645217616e-06,\n",
       " 1.210704015809449e-05,\n",
       " 8.169619554777704e-05,\n",
       " 0.0004849599426790116,\n",
       " 0.0024871935405546197,\n",
       " 0.010762834487880159,\n",
       " 0.0380500816084369,\n",
       " 0.10496741147770881,\n",
       " 0.21090795872465906,\n",
       " 0.27718369529093473,\n",
       " 0.20634837346333584,\n",
       " 0.10047792334335222,\n",
       " 0.03563525223174877,\n",
       " 0.009861863516377339,\n",
       " 0.0022297182512966275,\n",
       " 0.00042535775667055376,\n",
       " 7.010651895487191e-05,\n",
       " 1.0164888874034552e-05,\n",
       " 1.3150558544003993e-06]"
      ]
     },
     "execution_count": 79,
     "metadata": {},
     "output_type": "execute_result"
    }
   ],
   "source": [
    "skellam_pred"
   ]
  },
  {
   "cell_type": "markdown",
   "metadata": {},
   "source": [
    "## Individual poisson distribution"
   ]
  },
  {
   "cell_type": "code",
   "execution_count": 80,
   "metadata": {},
   "outputs": [
    {
     "data": {
      "image/png": "[encoded data removed]",
      "text/plain": [
       "<Figure size 432x288 with 1 Axes>"
      ]
     },
     "metadata": {
      "needs_background": "light"
     },
     "output_type": "display_data"
    }
   ],
   "source": [
    "# construct Poisson  for each mean goals value\n",
    "poisson_pred = np.column_stack([[poisson.pmf(i, df_new.mean()[j]) for i in range(8)] for j in range(2)])\n",
    "\n",
    "# plot histogram of actual goals\n",
    "plt.hist(df_new[['euro_score', 'non_euro_score']].values, range(9), \n",
    "         alpha=0.7, label=['Europe', 'Not Europe'],density=True, color=[\"#FFA07A\", \"#20B2AA\"])\n",
    "\n",
    "# add lines for the Poisson distributions\n",
    "pois1, = plt.plot([i-0.5 for i in range(1,9)], poisson_pred[:,0],\n",
    "                  linestyle='-', marker='o',label=\"Europe\", color = '#CD5C5C')\n",
    "pois2, = plt.plot([i-0.5 for i in range(1,9)], poisson_pred[:,1],\n",
    "                  linestyle='-', marker='o',label=\"Not Europe\", color = '#006400')\n",
    "\n",
    "leg=plt.legend(loc='upper right', fontsize=13, ncol=2)\n",
    "leg.set_title(\"Poisson           Actual        \", prop = {'size':'14', 'weight':'bold'})\n",
    "\n",
    "plt.xticks([i-0.5 for i in range(1,9)],[i for i in range(8)])\n",
    "plt.xlabel(\"Goals per Match\",size=13)\n",
    "plt.ylabel(\"Proportion of Matches\",size=13)\n",
    "plt.title(\"Number of Goals per Match \",size=14,fontweight='bold')\n",
    "plt.ylim([-0.004, 0.4])\n",
    "plt.tight_layout()\n",
    "plt.show()"
   ]
  },
  {
   "cell_type": "code",
   "execution_count": 81,
   "metadata": {},
   "outputs": [],
   "source": [
    "#Extracting Year from date\n",
    "df_new['date'] = pd.to_datetime(df_new.date,format=\"%Y-%m-%d\")\n",
    "df_new['year'] = df_new.date.dt.year"
   ]
  },
  {
   "cell_type": "code",
   "execution_count": 82,
   "metadata": {},
   "outputs": [
    {
     "data": {
      "text/plain": [
       "Index(['date', 'home_team', 'away_team', 'euro_score', 'non_euro_score',\n",
       "       'year'],\n",
       "      dtype='object')"
      ]
     },
     "execution_count": 82,
     "metadata": {},
     "output_type": "execute_result"
    }
   ],
   "source": [
    "df_new.columns"
   ]
  },
  {
   "cell_type": "code",
   "execution_count": 83,
   "metadata": {},
   "outputs": [
    {
     "data": {
      "text/html": [
       "<div>\n",
       "<style scoped>\n",
       "    .dataframe tbody tr th:only-of-type {\n",
       "        vertical-align: middle;\n",
       "    }\n",
       "\n",
       "    .dataframe tbody tr th {\n",
       "        vertical-align: top;\n",
       "    }\n",
       "\n",
       "    .dataframe thead th {\n",
       "        text-align: right;\n",
       "    }\n",
       "</style>\n",
       "<table border=\"1\" class=\"dataframe\">\n",
       "  <thead>\n",
       "    <tr style=\"text-align: right;\">\n",
       "      <th></th>\n",
       "      <th>date</th>\n",
       "      <th>home_team</th>\n",
       "      <th>away_team</th>\n",
       "      <th>euro_score</th>\n",
       "      <th>non_euro_score</th>\n",
       "      <th>year</th>\n",
       "    </tr>\n",
       "  </thead>\n",
       "  <tbody>\n",
       "    <tr>\n",
       "      <th>93</th>\n",
       "      <td>1903-04-05</td>\n",
       "      <td>Europe</td>\n",
       "      <td>Not Europe</td>\n",
       "      <td>2</td>\n",
       "      <td>1</td>\n",
       "      <td>1903</td>\n",
       "    </tr>\n",
       "    <tr>\n",
       "      <th>117</th>\n",
       "      <td>1906-04-01</td>\n",
       "      <td>Europe</td>\n",
       "      <td>Not Europe</td>\n",
       "      <td>1</td>\n",
       "      <td>1</td>\n",
       "      <td>1906</td>\n",
       "    </tr>\n",
       "    <tr>\n",
       "      <th>161</th>\n",
       "      <td>1909-05-29</td>\n",
       "      <td>Europe</td>\n",
       "      <td>Not Europe</td>\n",
       "      <td>2</td>\n",
       "      <td>4</td>\n",
       "      <td>1909</td>\n",
       "    </tr>\n",
       "    <tr>\n",
       "      <th>232</th>\n",
       "      <td>1912-07-03</td>\n",
       "      <td>Europe</td>\n",
       "      <td>Not Europe</td>\n",
       "      <td>2</td>\n",
       "      <td>1</td>\n",
       "      <td>1912</td>\n",
       "    </tr>\n",
       "    <tr>\n",
       "      <th>243</th>\n",
       "      <td>1912-12-01</td>\n",
       "      <td>Not Europe</td>\n",
       "      <td>Europe</td>\n",
       "      <td>0</td>\n",
       "      <td>1</td>\n",
       "      <td>1912</td>\n",
       "    </tr>\n",
       "    <tr>\n",
       "      <th>257</th>\n",
       "      <td>1913-05-04</td>\n",
       "      <td>Not Europe</td>\n",
       "      <td>Europe</td>\n",
       "      <td>4</td>\n",
       "      <td>1</td>\n",
       "      <td>1913</td>\n",
       "    </tr>\n",
       "    <tr>\n",
       "      <th>265</th>\n",
       "      <td>1913-09-14</td>\n",
       "      <td>Not Europe</td>\n",
       "      <td>Europe</td>\n",
       "      <td>1</td>\n",
       "      <td>1</td>\n",
       "      <td>1913</td>\n",
       "    </tr>\n",
       "    <tr>\n",
       "      <th>288</th>\n",
       "      <td>1914-07-05</td>\n",
       "      <td>Europe</td>\n",
       "      <td>Not Europe</td>\n",
       "      <td>2</td>\n",
       "      <td>2</td>\n",
       "      <td>1914</td>\n",
       "    </tr>\n",
       "    <tr>\n",
       "      <th>289</th>\n",
       "      <td>1914-07-12</td>\n",
       "      <td>Europe</td>\n",
       "      <td>Not Europe</td>\n",
       "      <td>1</td>\n",
       "      <td>1</td>\n",
       "      <td>1914</td>\n",
       "    </tr>\n",
       "    <tr>\n",
       "      <th>322</th>\n",
       "      <td>1916-08-20</td>\n",
       "      <td>Europe</td>\n",
       "      <td>Not Europe</td>\n",
       "      <td>2</td>\n",
       "      <td>3</td>\n",
       "      <td>1916</td>\n",
       "    </tr>\n",
       "  </tbody>\n",
       "</table>\n",
       "</div>"
      ],
      "text/plain": [
       "          date   home_team   away_team  euro_score  non_euro_score  year\n",
       "93  1903-04-05      Europe  Not Europe           2               1  1903\n",
       "117 1906-04-01      Europe  Not Europe           1               1  1906\n",
       "161 1909-05-29      Europe  Not Europe           2               4  1909\n",
       "232 1912-07-03      Europe  Not Europe           2               1  1912\n",
       "243 1912-12-01  Not Europe      Europe           0               1  1912\n",
       "257 1913-05-04  Not Europe      Europe           4               1  1913\n",
       "265 1913-09-14  Not Europe      Europe           1               1  1913\n",
       "288 1914-07-05      Europe  Not Europe           2               2  1914\n",
       "289 1914-07-12      Europe  Not Europe           1               1  1914\n",
       "322 1916-08-20      Europe  Not Europe           2               3  1916"
      ]
     },
     "execution_count": 83,
     "metadata": {},
     "output_type": "execute_result"
    }
   ],
   "source": [
    "df_new.head(10)"
   ]
  },
  {
   "cell_type": "code",
   "execution_count": 84,
   "metadata": {},
   "outputs": [],
   "source": [
    "df_new['Euro_Team'] = 'Europe'\n",
    "df_new['Other_Team'] = 'Not Europe'"
   ]
  },
  {
   "cell_type": "code",
   "execution_count": 85,
   "metadata": {},
   "outputs": [],
   "source": [
    "df_new= df_new.drop(['home_team', 'away_team'], axis = 1)"
   ]
  },
  {
   "cell_type": "code",
   "execution_count": 86,
   "metadata": {},
   "outputs": [
    {
     "data": {
      "text/html": [
       "<div>\n",
       "<style scoped>\n",
       "    .dataframe tbody tr th:only-of-type {\n",
       "        vertical-align: middle;\n",
       "    }\n",
       "\n",
       "    .dataframe tbody tr th {\n",
       "        vertical-align: top;\n",
       "    }\n",
       "\n",
       "    .dataframe thead th {\n",
       "        text-align: right;\n",
       "    }\n",
       "</style>\n",
       "<table border=\"1\" class=\"dataframe\">\n",
       "  <thead>\n",
       "    <tr style=\"text-align: right;\">\n",
       "      <th></th>\n",
       "      <th>date</th>\n",
       "      <th>euro_score</th>\n",
       "      <th>non_euro_score</th>\n",
       "      <th>year</th>\n",
       "      <th>Euro_Team</th>\n",
       "      <th>Other_Team</th>\n",
       "    </tr>\n",
       "  </thead>\n",
       "  <tbody>\n",
       "    <tr>\n",
       "      <th>93</th>\n",
       "      <td>1903-04-05</td>\n",
       "      <td>2</td>\n",
       "      <td>1</td>\n",
       "      <td>1903</td>\n",
       "      <td>Europe</td>\n",
       "      <td>Not Europe</td>\n",
       "    </tr>\n",
       "    <tr>\n",
       "      <th>117</th>\n",
       "      <td>1906-04-01</td>\n",
       "      <td>1</td>\n",
       "      <td>1</td>\n",
       "      <td>1906</td>\n",
       "      <td>Europe</td>\n",
       "      <td>Not Europe</td>\n",
       "    </tr>\n",
       "    <tr>\n",
       "      <th>161</th>\n",
       "      <td>1909-05-29</td>\n",
       "      <td>2</td>\n",
       "      <td>4</td>\n",
       "      <td>1909</td>\n",
       "      <td>Europe</td>\n",
       "      <td>Not Europe</td>\n",
       "    </tr>\n",
       "    <tr>\n",
       "      <th>232</th>\n",
       "      <td>1912-07-03</td>\n",
       "      <td>2</td>\n",
       "      <td>1</td>\n",
       "      <td>1912</td>\n",
       "      <td>Europe</td>\n",
       "      <td>Not Europe</td>\n",
       "    </tr>\n",
       "    <tr>\n",
       "      <th>243</th>\n",
       "      <td>1912-12-01</td>\n",
       "      <td>0</td>\n",
       "      <td>1</td>\n",
       "      <td>1912</td>\n",
       "      <td>Europe</td>\n",
       "      <td>Not Europe</td>\n",
       "    </tr>\n",
       "  </tbody>\n",
       "</table>\n",
       "</div>"
      ],
      "text/plain": [
       "          date  euro_score  non_euro_score  year Euro_Team  Other_Team\n",
       "93  1903-04-05           2               1  1903    Europe  Not Europe\n",
       "117 1906-04-01           1               1  1906    Europe  Not Europe\n",
       "161 1909-05-29           2               4  1909    Europe  Not Europe\n",
       "232 1912-07-03           2               1  1912    Europe  Not Europe\n",
       "243 1912-12-01           0               1  1912    Europe  Not Europe"
      ]
     },
     "execution_count": 86,
     "metadata": {},
     "output_type": "execute_result"
    }
   ],
   "source": [
    "df_new.head()"
   ]
  },
  {
   "cell_type": "code",
   "execution_count": 87,
   "metadata": {},
   "outputs": [
    {
     "data": {
      "text/plain": [
       "(6429, 6)"
      ]
     },
     "execution_count": 87,
     "metadata": {},
     "output_type": "execute_result"
    }
   ],
   "source": [
    "df_new.shape"
   ]
  },
  {
   "cell_type": "code",
   "execution_count": 88,
   "metadata": {},
   "outputs": [],
   "source": [
    "df_new['diff']= abs(df_new['euro_score']-df_new['non_euro_score'])"
   ]
  },
  {
   "cell_type": "code",
   "execution_count": 89,
   "metadata": {},
   "outputs": [
    {
     "data": {
      "text/html": [
       "<div>\n",
       "<style scoped>\n",
       "    .dataframe tbody tr th:only-of-type {\n",
       "        vertical-align: middle;\n",
       "    }\n",
       "\n",
       "    .dataframe tbody tr th {\n",
       "        vertical-align: top;\n",
       "    }\n",
       "\n",
       "    .dataframe thead th {\n",
       "        text-align: right;\n",
       "    }\n",
       "</style>\n",
       "<table border=\"1\" class=\"dataframe\">\n",
       "  <thead>\n",
       "    <tr style=\"text-align: right;\">\n",
       "      <th></th>\n",
       "      <th>date</th>\n",
       "      <th>euro_score</th>\n",
       "      <th>non_euro_score</th>\n",
       "      <th>year</th>\n",
       "      <th>Euro_Team</th>\n",
       "      <th>Other_Team</th>\n",
       "      <th>diff</th>\n",
       "    </tr>\n",
       "  </thead>\n",
       "  <tbody>\n",
       "    <tr>\n",
       "      <th>93</th>\n",
       "      <td>1903-04-05</td>\n",
       "      <td>2</td>\n",
       "      <td>1</td>\n",
       "      <td>1903</td>\n",
       "      <td>Europe</td>\n",
       "      <td>Not Europe</td>\n",
       "      <td>1</td>\n",
       "    </tr>\n",
       "    <tr>\n",
       "      <th>117</th>\n",
       "      <td>1906-04-01</td>\n",
       "      <td>1</td>\n",
       "      <td>1</td>\n",
       "      <td>1906</td>\n",
       "      <td>Europe</td>\n",
       "      <td>Not Europe</td>\n",
       "      <td>0</td>\n",
       "    </tr>\n",
       "    <tr>\n",
       "      <th>161</th>\n",
       "      <td>1909-05-29</td>\n",
       "      <td>2</td>\n",
       "      <td>4</td>\n",
       "      <td>1909</td>\n",
       "      <td>Europe</td>\n",
       "      <td>Not Europe</td>\n",
       "      <td>2</td>\n",
       "    </tr>\n",
       "    <tr>\n",
       "      <th>232</th>\n",
       "      <td>1912-07-03</td>\n",
       "      <td>2</td>\n",
       "      <td>1</td>\n",
       "      <td>1912</td>\n",
       "      <td>Europe</td>\n",
       "      <td>Not Europe</td>\n",
       "      <td>1</td>\n",
       "    </tr>\n",
       "    <tr>\n",
       "      <th>243</th>\n",
       "      <td>1912-12-01</td>\n",
       "      <td>0</td>\n",
       "      <td>1</td>\n",
       "      <td>1912</td>\n",
       "      <td>Europe</td>\n",
       "      <td>Not Europe</td>\n",
       "      <td>1</td>\n",
       "    </tr>\n",
       "  </tbody>\n",
       "</table>\n",
       "</div>"
      ],
      "text/plain": [
       "          date  euro_score  non_euro_score  year Euro_Team  Other_Team  diff\n",
       "93  1903-04-05           2               1  1903    Europe  Not Europe     1\n",
       "117 1906-04-01           1               1  1906    Europe  Not Europe     0\n",
       "161 1909-05-29           2               4  1909    Europe  Not Europe     2\n",
       "232 1912-07-03           2               1  1912    Europe  Not Europe     1\n",
       "243 1912-12-01           0               1  1912    Europe  Not Europe     1"
      ]
     },
     "execution_count": 89,
     "metadata": {},
     "output_type": "execute_result"
    }
   ],
   "source": [
    "df_new.head()"
   ]
  },
  {
   "cell_type": "code",
   "execution_count": 90,
   "metadata": {},
   "outputs": [
    {
     "data": {
      "image/png": "[encoded data removed]",
      "text/plain": [
       "<Figure size 432x288 with 1 Axes>"
      ]
     },
     "metadata": {
      "needs_background": "light"
     },
     "output_type": "display_data"
    }
   ],
   "source": [
    "plt.hist(df_new['diff'], bins=len(set(df_new['diff'])));"
   ]
  },
  {
   "cell_type": "code",
   "execution_count": 91,
   "metadata": {},
   "outputs": [
    {
     "data": {
      "text/plain": [
       "(1.1864986778659201, 0.9754641289135652)"
      ]
     },
     "execution_count": 91,
     "metadata": {},
     "output_type": "execute_result"
    }
   ],
   "source": [
    "diff_mean = np.mean(df_new['diff'])\n",
    "diff_std = np.std(df_new['diff'])\n",
    "diff_mean, diff_std"
   ]
  },
  {
   "cell_type": "code",
   "execution_count": 92,
   "metadata": {},
   "outputs": [
    {
     "data": {
      "text/plain": [
       "1.1826100482190076"
      ]
     },
     "execution_count": 92,
     "metadata": {},
     "output_type": "execute_result"
    }
   ],
   "source": [
    "df_new['euro_score'].mean()"
   ]
  },
  {
   "cell_type": "code",
   "execution_count": 93,
   "metadata": {},
   "outputs": [
    {
     "data": {
      "text/plain": [
       "1.1041717180135497"
      ]
     },
     "execution_count": 93,
     "metadata": {},
     "output_type": "execute_result"
    }
   ],
   "source": [
    "df_new['euro_score'].var()"
   ]
  },
  {
   "cell_type": "code",
   "execution_count": 94,
   "metadata": {},
   "outputs": [
    {
     "data": {
      "text/plain": [
       "1.2087416394462591"
      ]
     },
     "execution_count": 94,
     "metadata": {},
     "output_type": "execute_result"
    }
   ],
   "source": [
    "df_new['non_euro_score'].mean()"
   ]
  },
  {
   "cell_type": "code",
   "execution_count": 95,
   "metadata": {},
   "outputs": [
    {
     "data": {
      "text/plain": [
       "1.0986105662512078"
      ]
     },
     "execution_count": 95,
     "metadata": {},
     "output_type": "execute_result"
    }
   ],
   "source": [
    "df_new['non_euro_score'].var()"
   ]
  },
  {
   "cell_type": "code",
   "execution_count": 96,
   "metadata": {},
   "outputs": [
    {
     "data": {
      "text/plain": [
       "4"
      ]
     },
     "execution_count": 96,
     "metadata": {},
     "output_type": "execute_result"
    }
   ],
   "source": [
    "df_new['euro_score'].max()"
   ]
  },
  {
   "cell_type": "code",
   "execution_count": 97,
   "metadata": {},
   "outputs": [
    {
     "data": {
      "text/plain": [
       "4"
      ]
     },
     "execution_count": 97,
     "metadata": {},
     "output_type": "execute_result"
    }
   ],
   "source": [
    "df_new['non_euro_score'].max()"
   ]
  },
  {
   "cell_type": "markdown",
   "metadata": {},
   "source": [
    "The Poisson distribution is defined by the rate parameter, λ, which is the expected number of events in the interval (events/interval * interval length) and the highest probability number of events."
   ]
  },
  {
   "cell_type": "code",
   "execution_count": 98,
   "metadata": {},
   "outputs": [
    {
     "data": {
      "image/png": "[encoded data removed]",
      "text/plain": [
       "<Figure size 432x288 with 1 Axes>"
      ]
     },
     "metadata": {
      "needs_background": "light"
     },
     "output_type": "display_data"
    }
   ],
   "source": [
    "import scipy.stats as stats\n",
    "for lambd in (df_new['euro_score'].mean(),df_new['non_euro_score'].mean()):\n",
    "    #n is the number for which we want to compute the probability ( 0 to 4 inclusive)\n",
    "    n = np.arange(0,5)\n",
    "    poisson = stats.poisson.pmf(n, lambd)\n",
    "    plt.plot(n,poisson,'-o',label = \"lambda = {:f}\".format(lambd))\n",
    "    plt.xlabel('Difference of Goals per match')\n",
    "    plt.ylabel('Probability')\n",
    "    plt.title(\"Poisson Distribution varying λ for 4 matches difference at max\")\n",
    "    plt.legend()"
   ]
  },
  {
   "cell_type": "code",
   "execution_count": 99,
   "metadata": {},
   "outputs": [
    {
     "name": "stdout",
     "output_type": "stream",
     "text": [
      "Probability of scoring 0 goal difference in a match: 0.30528830765380677\n",
      "Probability of scoring 1 goal difference in a match: 0.36222417339916596\n",
      "Probability of scoring 2 goal difference in a match: 0.21488925141459314\n",
      "Probability of scoring 3 goal difference in a match: 0.08498860423033736\n",
      "Probability of scoring 4 goal difference in a match: 0.025209716638241304\n",
      "Probability of scoring 5 goal difference in a match: 0.005982259092129559\n",
      "Probability of scoring 6 goal difference in a match: 0.00118299041724385\n",
      "Probability of scoring 7 goal difference in a match: 0.00020051665228398282\n",
      "Probability of scoring 8 goal difference in a match: 2.9739092853130754e-05\n",
      "Probability of scoring 9 goal difference in a match: 3.920599372352391e-06\n"
     ]
    }
   ],
   "source": [
    "from scipy.stats import poisson\n",
    "for i in range(0,10):\n",
    "    print(\"Probability of scoring {} goal difference in a match: {}\".format(i,poisson.pmf(k=i, mu=diff_mean)))"
   ]
  },
  {
   "cell_type": "code",
   "execution_count": 100,
   "metadata": {},
   "outputs": [
    {
     "data": {
      "text/plain": [
       "0.27718369529093473"
      ]
     },
     "execution_count": 100,
     "metadata": {},
     "output_type": "execute_result"
    }
   ],
   "source": [
    "skellam.pmf(0.0,  df_new.mean()[0],  df_new.mean()[1])"
   ]
  },
  {
   "cell_type": "markdown",
   "metadata": {},
   "source": [
    "# Using reference given by Professor with pymc3"
   ]
  },
  {
   "cell_type": "code",
   "execution_count": 101,
   "metadata": {},
   "outputs": [
    {
     "data": {
      "image/png": "[encoded data removed]",
      "text/plain": [
       "<Figure size 576x288 with 1 Axes>"
      ]
     },
     "metadata": {
      "needs_background": "light"
     },
     "output_type": "display_data"
    }
   ],
   "source": [
    "from scipy.stats import skellam\n",
    "import matplotlib.pyplot as plt\n",
    "fig, ax = plt.subplots(1, 1,figsize = (8,4))\n",
    "mu1, mu2 = df_new['euro_score'].mean(), df_new['non_euro_score'].mean()\n",
    "mean, var, skew, kurt = skellam.stats(mu1, mu2, moments='mvsk')\n",
    "x = np.arange(skellam.ppf(0.00001, mu1, mu2),\n",
    "              skellam.ppf(0.99999, mu1, mu2))\n",
    "ax.plot(x, skellam.pmf(x, mu1, mu2), 'bo', ms=8, label='skellam pmf')\n",
    "ax.vlines(x, 0, skellam.pmf(x, mu1, mu2), colors='b', lw=5, alpha=0.5)\n",
    "rv = skellam(mu1, mu2)\n",
    "ax.vlines(x, 0, rv.pmf(x), colors='k', linestyles='-', lw=1,\n",
    "        label='frozen pmf')\n",
    "ax.legend(loc='best', frameon=False)\n",
    "plt.show()"
   ]
  },
  {
   "cell_type": "code",
   "execution_count": 102,
   "metadata": {},
   "outputs": [
    {
     "name": "stderr",
     "output_type": "stream",
     "text": [
      "WARNING (theano.configdefaults): g++ not available, if using conda: `conda install m2w64-toolchain`\n",
      "WARNING (theano.configdefaults): g++ not detected ! Theano will be unable to execute optimized C-implementations (for both CPU and GPU) and will default to Python implementations. Performance will be severely degraded. To remove this warning, set Theano flags cxx to an empty string.\n",
      "WARNING (theano.tensor.blas): Using NumPy C-API based implementation for BLAS functions.\n"
     ]
    }
   ],
   "source": [
    "import numpy as np\n",
    "import pymc3\n",
    "import theano\n",
    "import pandas\n",
    "import scipy.stats\n",
    "\n",
    "import matplotlib.pyplot as plt\n",
    "import seaborn as sns\n",
    "\n",
    "%matplotlib inline"
   ]
  },
  {
   "cell_type": "code",
   "execution_count": 103,
   "metadata": {},
   "outputs": [],
   "source": [
    "# copied from theano master branch\n",
    "\n",
    "from __future__ import absolute_import, print_function, division\n",
    "# Definitions of theano.scalar ops that have their python implementation taken\n",
    "# from SciPy. As SciPy is not always available, we treat them separately.\n",
    "\n",
    "import numpy as np\n",
    "\n",
    "import theano\n",
    "from theano.gradient import grad_not_implemented\n",
    "from theano.scalar.basic import (UnaryScalarOp, BinaryScalarOp,\n",
    "                                 exp, upgrade_to_float,\n",
    "                                 upgrade_to_float64,\n",
    "                                 float_types)\n",
    "from theano.scalar.basic import (upgrade_to_float_no_complex,\n",
    "                                 complex_types, discrete_types,\n",
    "                                 upcast)\n",
    "\n",
    "imported_scipy_special = False\n",
    "try:\n",
    "    import scipy.special\n",
    "    import scipy.stats\n",
    "    imported_scipy_special = True\n",
    "# Importing scipy.special may raise ValueError.\n",
    "# See http://projects.scipy.org/scipy/ticket/1739\n",
    "except (ImportError, ValueError):\n",
    "    pass\n",
    "\n",
    "class Iv(BinaryScalarOp):\n",
    "    \"\"\"\n",
    "    Modified Bessel function of the first kind of order v (real).\n",
    "    \"\"\"\n",
    "\n",
    "    @staticmethod\n",
    "    def st_impl(v, x):\n",
    "        return scipy.special.iv(v, x)\n",
    "\n",
    "    def impl(self, v, x):\n",
    "        if imported_scipy_special:\n",
    "            return self.st_impl(v, x)\n",
    "        else:\n",
    "            super(Iv, self).impl(v, x)\n",
    "\n",
    "    def grad(self, inputs, grads):\n",
    "        v, x = inputs\n",
    "        gz, = grads\n",
    "        return [grad_not_implemented(self, 0, v),\n",
    "                gz * (iv(v - 1, x) + iv(v + 1, x)) / 2.]\n",
    "\n",
    "iv = Iv(upgrade_to_float, name='iv')\n",
    "\n",
    "# added:\n",
    "iv_tensor = theano.tensor.elemwise.Elemwise(iv)"
   ]
  },
  {
   "cell_type": "code",
   "execution_count": 104,
   "metadata": {},
   "outputs": [
    {
     "data": {
      "image/png": "[encoded data removed]",
      "text/plain": [
       "<Figure size 432x288 with 1 Axes>"
      ]
     },
     "metadata": {
      "needs_background": "light"
     },
     "output_type": "display_data"
    }
   ],
   "source": [
    "Y = skellam.pmf(x, mu1, mu2)\n",
    "sns.distplot(Y);"
   ]
  },
  {
   "cell_type": "markdown",
   "metadata": {},
   "source": [
    "# Ques in cell below"
   ]
  },
  {
   "cell_type": "code",
   "execution_count": 105,
   "metadata": {},
   "outputs": [
    {
     "name": "stderr",
     "output_type": "stream",
     "text": [
      "Sequential sampling (2 chains in 1 job)\n",
      "CompoundStep\n",
      ">NUTS: [beta1, beta0]\n",
      ">Metropolis: [var]\n",
      "Sampling chain 0, 0 divergences: 100%|████████████████████████████████████████████| 2500/2500 [00:14<00:00, 171.53it/s]\n",
      "Sampling chain 1, 0 divergences: 100%|████████████████████████████████████████████| 2500/2500 [00:14<00:00, 166.89it/s]\n",
      "The number of effective samples is smaller than 25% for some parameters.\n"
     ]
    }
   ],
   "source": [
    "# use class, because nested function cannot be pickled\n",
    "class skellam_log:\n",
    "    def __init__(self, mu1, mu2):\n",
    "        self.mu1 = mu1\n",
    "        self.mu2 = mu2\n",
    "    def __call__(self, k):\n",
    "        total = (-mu1-mu2)+(theano.tensor.log(mu1)-theano.tensor.log(mu2))*k/2\n",
    "        log_prob = total+ theano.tensor.log(iv_tensor(k, 2*theano.tensor.sqrt(mu1*mu2)))\n",
    "        return log_prob\n",
    "\n",
    "with pymc3.Model() as model:\n",
    "    \n",
    "    beta0 = pymc3.Normal('beta0',mu=df_new['euro_score'].mean(),sd=100)\n",
    "    beta1 = pymc3.Normal('beta1',mu=df_new['non_euro_score'].mean(),sd=100)\n",
    "    \n",
    "    #mean = beta0 - beta1\n",
    "    \n",
    "    #var = pymc3.DiscreteUniform('var',lower=1, upper=1000)\n",
    "     \n",
    "    # why this calculation of mu1 and mu2??\n",
    "    #mu1, mu2 = df_new['euro_score'].mean(), df_new['non_euro_score'].mean()\n",
    "    #mu1 = (var + mean)/2\n",
    "    #mu2 = (var - mean)/2\n",
    "    \n",
    "    obs = pymc3.DensityDist('obs', skellam_log(beta0,beta1), observed=Y)\n",
    "    \n",
    "    trace = pymc3.sample(2000, cores=1, tune=500, nuts={'target_accept':0.99})"
   ]
  },
  {
   "cell_type": "code",
   "execution_count": 273,
   "metadata": {},
   "outputs": [
    {
     "ename": "AttributeError",
     "evalue": "'int' object has no attribute 'astype'",
     "output_type": "error",
     "traceback": [
      "\u001b[1;31m---------------------------------------------------------------------------\u001b[0m",
      "\u001b[1;31mAttributeError\u001b[0m                            Traceback (most recent call last)",
      "\u001b[1;32m<ipython-input-273-faac3757f862>\u001b[0m in \u001b[0;36m<module>\u001b[1;34m\u001b[0m\n\u001b[1;32m----> 1\u001b[1;33m \u001b[0m_\u001b[0m \u001b[1;33m=\u001b[0m \u001b[0mpymc3\u001b[0m\u001b[1;33m.\u001b[0m\u001b[0mtraceplot\u001b[0m\u001b[1;33m(\u001b[0m\u001b[0mtrace\u001b[0m\u001b[1;33m)\u001b[0m\u001b[1;33m\u001b[0m\u001b[1;33m\u001b[0m\u001b[0m\n\u001b[0m",
      "\u001b[1;32m~\\AppData\\Local\\Continuum\\anaconda3\\lib\\site-packages\\pymc3\\plots\\__init__.py\u001b[0m in \u001b[0;36mwrapped\u001b[1;34m(*args, **kwargs)\u001b[0m\n\u001b[0;32m     21\u001b[0m                 \u001b[0mwarnings\u001b[0m\u001b[1;33m.\u001b[0m\u001b[0mwarn\u001b[0m\u001b[1;33m(\u001b[0m\u001b[1;34m'Keyword argument `{old}` renamed to `{new}`, and will be removed in pymc3 3.8'\u001b[0m\u001b[1;33m.\u001b[0m\u001b[0mformat\u001b[0m\u001b[1;33m(\u001b[0m\u001b[0mold\u001b[0m\u001b[1;33m=\u001b[0m\u001b[0mold\u001b[0m\u001b[1;33m,\u001b[0m \u001b[0mnew\u001b[0m\u001b[1;33m=\u001b[0m\u001b[0mnew\u001b[0m\u001b[1;33m)\u001b[0m\u001b[1;33m)\u001b[0m\u001b[1;33m\u001b[0m\u001b[1;33m\u001b[0m\u001b[0m\n\u001b[0;32m     22\u001b[0m                 \u001b[0mkwargs\u001b[0m\u001b[1;33m[\u001b[0m\u001b[0mnew\u001b[0m\u001b[1;33m]\u001b[0m \u001b[1;33m=\u001b[0m \u001b[0mkwargs\u001b[0m\u001b[1;33m.\u001b[0m\u001b[0mpop\u001b[0m\u001b[1;33m(\u001b[0m\u001b[0mold\u001b[0m\u001b[1;33m)\u001b[0m\u001b[1;33m\u001b[0m\u001b[1;33m\u001b[0m\u001b[0m\n\u001b[1;32m---> 23\u001b[1;33m             \u001b[1;32mreturn\u001b[0m \u001b[0mfunc\u001b[0m\u001b[1;33m(\u001b[0m\u001b[1;33m*\u001b[0m\u001b[0margs\u001b[0m\u001b[1;33m,\u001b[0m \u001b[1;33m**\u001b[0m\u001b[0mkwargs\u001b[0m\u001b[1;33m)\u001b[0m\u001b[1;33m\u001b[0m\u001b[1;33m\u001b[0m\u001b[0m\n\u001b[0m\u001b[0;32m     24\u001b[0m     \u001b[1;32mreturn\u001b[0m \u001b[0mwrapped\u001b[0m\u001b[1;33m\u001b[0m\u001b[1;33m\u001b[0m\u001b[0m\n\u001b[0;32m     25\u001b[0m \u001b[1;33m\u001b[0m\u001b[0m\n",
      "\u001b[1;32m~\\AppData\\Local\\Continuum\\anaconda3\\lib\\site-packages\\pymc3\\plots\\__init__.py\u001b[0m in \u001b[0;36mtraceplot\u001b[1;34m(*args, **kwargs)\u001b[0m\n\u001b[0;32m     39\u001b[0m     \u001b[1;32mtry\u001b[0m\u001b[1;33m:\u001b[0m\u001b[1;33m\u001b[0m\u001b[1;33m\u001b[0m\u001b[0m\n\u001b[0;32m     40\u001b[0m         \u001b[0mkwargs\u001b[0m\u001b[1;33m.\u001b[0m\u001b[0msetdefault\u001b[0m\u001b[1;33m(\u001b[0m\u001b[1;34m'compact'\u001b[0m\u001b[1;33m,\u001b[0m \u001b[1;32mTrue\u001b[0m\u001b[1;33m)\u001b[0m\u001b[1;33m\u001b[0m\u001b[1;33m\u001b[0m\u001b[0m\n\u001b[1;32m---> 41\u001b[1;33m         \u001b[1;32mreturn\u001b[0m \u001b[0maz\u001b[0m\u001b[1;33m.\u001b[0m\u001b[0mplot_trace\u001b[0m\u001b[1;33m(\u001b[0m\u001b[1;33m*\u001b[0m\u001b[0margs\u001b[0m\u001b[1;33m,\u001b[0m \u001b[1;33m**\u001b[0m\u001b[0mkwargs\u001b[0m\u001b[1;33m)\u001b[0m\u001b[1;33m\u001b[0m\u001b[1;33m\u001b[0m\u001b[0m\n\u001b[0m\u001b[0;32m     42\u001b[0m     \u001b[1;32mexcept\u001b[0m \u001b[0mTypeError\u001b[0m\u001b[1;33m:\u001b[0m\u001b[1;33m\u001b[0m\u001b[1;33m\u001b[0m\u001b[0m\n\u001b[0;32m     43\u001b[0m         \u001b[0mkwargs\u001b[0m\u001b[1;33m.\u001b[0m\u001b[0mpop\u001b[0m\u001b[1;33m(\u001b[0m\u001b[1;34m'compact'\u001b[0m\u001b[1;33m)\u001b[0m\u001b[1;33m\u001b[0m\u001b[1;33m\u001b[0m\u001b[0m\n",
      "\u001b[1;32m~\\AppData\\Local\\Continuum\\anaconda3\\lib\\site-packages\\arviz\\plots\\traceplot.py\u001b[0m in \u001b[0;36mplot_trace\u001b[1;34m(data, var_names, coords, divergences, figsize, rug, lines, compact, combined, legend, plot_kwargs, fill_kwargs, rug_kwargs, hist_kwargs, trace_kwargs, backend, backend_kwargs, show)\u001b[0m\n\u001b[0;32m    216\u001b[0m \u001b[1;33m\u001b[0m\u001b[0m\n\u001b[0;32m    217\u001b[0m     \u001b[0mplot\u001b[0m \u001b[1;33m=\u001b[0m \u001b[0mget_plotting_function\u001b[0m\u001b[1;33m(\u001b[0m\u001b[1;34m\"plot_trace\"\u001b[0m\u001b[1;33m,\u001b[0m \u001b[1;34m\"traceplot\"\u001b[0m\u001b[1;33m,\u001b[0m \u001b[0mbackend\u001b[0m\u001b[1;33m)\u001b[0m\u001b[1;33m\u001b[0m\u001b[1;33m\u001b[0m\u001b[0m\n\u001b[1;32m--> 218\u001b[1;33m     \u001b[0maxes\u001b[0m \u001b[1;33m=\u001b[0m \u001b[0mplot\u001b[0m\u001b[1;33m(\u001b[0m\u001b[1;33m**\u001b[0m\u001b[0mtrace_plot_args\u001b[0m\u001b[1;33m)\u001b[0m\u001b[1;33m\u001b[0m\u001b[1;33m\u001b[0m\u001b[0m\n\u001b[0m\u001b[0;32m    219\u001b[0m \u001b[1;33m\u001b[0m\u001b[0m\n\u001b[0;32m    220\u001b[0m     \u001b[1;32mreturn\u001b[0m \u001b[0maxes\u001b[0m\u001b[1;33m\u001b[0m\u001b[1;33m\u001b[0m\u001b[0m\n",
      "\u001b[1;32m~\\AppData\\Local\\Continuum\\anaconda3\\lib\\site-packages\\arviz\\plots\\backends\\matplotlib\\traceplot.py\u001b[0m in \u001b[0;36mplot_trace\u001b[1;34m(data, var_names, divergences, figsize, rug, lines, combined, legend, plot_kwargs, fill_kwargs, rug_kwargs, hist_kwargs, trace_kwargs, plotters, divergence_data, colors, backend_kwargs, show)\u001b[0m\n\u001b[0;32m    142\u001b[0m                 \u001b[0mplot_kwargs\u001b[0m\u001b[1;33m,\u001b[0m\u001b[1;33m\u001b[0m\u001b[1;33m\u001b[0m\u001b[0m\n\u001b[0;32m    143\u001b[0m                 \u001b[0mfill_kwargs\u001b[0m\u001b[1;33m,\u001b[0m\u001b[1;33m\u001b[0m\u001b[1;33m\u001b[0m\u001b[0m\n\u001b[1;32m--> 144\u001b[1;33m                 \u001b[0mrug_kwargs\u001b[0m\u001b[1;33m,\u001b[0m\u001b[1;33m\u001b[0m\u001b[1;33m\u001b[0m\u001b[0m\n\u001b[0m\u001b[0;32m    145\u001b[0m             )\n\u001b[0;32m    146\u001b[0m         \u001b[1;32melse\u001b[0m\u001b[1;33m:\u001b[0m\u001b[1;33m\u001b[0m\u001b[1;33m\u001b[0m\u001b[0m\n",
      "\u001b[1;32m~\\AppData\\Local\\Continuum\\anaconda3\\lib\\site-packages\\arviz\\plots\\backends\\matplotlib\\traceplot.py\u001b[0m in \u001b[0;36m_plot_chains_mpl\u001b[1;34m(axes, idx, value, data, colors, combined, xt_labelsize, rug, trace_kwargs, hist_kwargs, plot_kwargs, fill_kwargs, rug_kwargs)\u001b[0m\n\u001b[0;32m    273\u001b[0m                 \u001b[0mbackend\u001b[0m\u001b[1;33m=\u001b[0m\u001b[1;34m\"matplotlib\"\u001b[0m\u001b[1;33m,\u001b[0m\u001b[1;33m\u001b[0m\u001b[1;33m\u001b[0m\u001b[0m\n\u001b[0;32m    274\u001b[0m                 \u001b[0mbackend_kwargs\u001b[0m\u001b[1;33m=\u001b[0m\u001b[1;33m{\u001b[0m\u001b[1;33m}\u001b[0m\u001b[1;33m,\u001b[0m\u001b[1;33m\u001b[0m\u001b[1;33m\u001b[0m\u001b[0m\n\u001b[1;32m--> 275\u001b[1;33m                 \u001b[0mshow\u001b[0m\u001b[1;33m=\u001b[0m\u001b[1;32mFalse\u001b[0m\u001b[1;33m,\u001b[0m\u001b[1;33m\u001b[0m\u001b[1;33m\u001b[0m\u001b[0m\n\u001b[0m\u001b[0;32m    276\u001b[0m             )\n\u001b[0;32m    277\u001b[0m \u001b[1;33m\u001b[0m\u001b[0m\n",
      "\u001b[1;32m~\\AppData\\Local\\Continuum\\anaconda3\\lib\\site-packages\\arviz\\plots\\distplot.py\u001b[0m in \u001b[0;36mplot_dist\u001b[1;34m(values, values2, color, kind, cumulative, label, rotated, rug, bw, quantiles, contour, fill_last, textsize, plot_kwargs, fill_kwargs, rug_kwargs, contour_kwargs, contourf_kwargs, pcolormesh_kwargs, hist_kwargs, ax, backend, backend_kwargs, show, **kwargs)\u001b[0m\n\u001b[0;32m    151\u001b[0m             \u001b[0mhist_kwargs\u001b[0m \u001b[1;33m=\u001b[0m \u001b[1;33m{\u001b[0m\u001b[1;33m}\u001b[0m\u001b[1;33m\u001b[0m\u001b[1;33m\u001b[0m\u001b[0m\n\u001b[0;32m    152\u001b[0m \u001b[1;33m\u001b[0m\u001b[0m\n\u001b[1;32m--> 153\u001b[1;33m         \u001b[0mhist_kwargs\u001b[0m\u001b[1;33m.\u001b[0m\u001b[0msetdefault\u001b[0m\u001b[1;33m(\u001b[0m\u001b[1;34m\"bins\"\u001b[0m\u001b[1;33m,\u001b[0m \u001b[0mget_bins\u001b[0m\u001b[1;33m(\u001b[0m\u001b[0mvalues\u001b[0m\u001b[1;33m)\u001b[0m\u001b[1;33m)\u001b[0m\u001b[1;33m\u001b[0m\u001b[1;33m\u001b[0m\u001b[0m\n\u001b[0m\u001b[0;32m    154\u001b[0m         \u001b[0mhist_kwargs\u001b[0m\u001b[1;33m.\u001b[0m\u001b[0msetdefault\u001b[0m\u001b[1;33m(\u001b[0m\u001b[1;34m\"cumulative\"\u001b[0m\u001b[1;33m,\u001b[0m \u001b[0mcumulative\u001b[0m\u001b[1;33m)\u001b[0m\u001b[1;33m\u001b[0m\u001b[1;33m\u001b[0m\u001b[0m\n\u001b[0;32m    155\u001b[0m         \u001b[0mhist_kwargs\u001b[0m\u001b[1;33m.\u001b[0m\u001b[0msetdefault\u001b[0m\u001b[1;33m(\u001b[0m\u001b[1;34m\"color\"\u001b[0m\u001b[1;33m,\u001b[0m \u001b[0mcolor\u001b[0m\u001b[1;33m)\u001b[0m\u001b[1;33m\u001b[0m\u001b[1;33m\u001b[0m\u001b[0m\n",
      "\u001b[1;32m~\\AppData\\Local\\Continuum\\anaconda3\\lib\\site-packages\\arviz\\plots\\plot_utils.py\u001b[0m in \u001b[0;36mget_bins\u001b[1;34m(values)\u001b[0m\n\u001b[0;32m    129\u001b[0m     \u001b[0mbins_fd\u001b[0m \u001b[1;33m=\u001b[0m \u001b[1;36m2\u001b[0m \u001b[1;33m*\u001b[0m \u001b[0miqr\u001b[0m \u001b[1;33m*\u001b[0m \u001b[0mvalues\u001b[0m\u001b[1;33m.\u001b[0m\u001b[0msize\u001b[0m \u001b[1;33m**\u001b[0m \u001b[1;33m(\u001b[0m\u001b[1;33m-\u001b[0m\u001b[1;36m1\u001b[0m \u001b[1;33m/\u001b[0m \u001b[1;36m3\u001b[0m\u001b[1;33m)\u001b[0m\u001b[1;33m\u001b[0m\u001b[1;33m\u001b[0m\u001b[0m\n\u001b[0;32m    130\u001b[0m \u001b[1;33m\u001b[0m\u001b[0m\n\u001b[1;32m--> 131\u001b[1;33m     \u001b[0mwidth\u001b[0m \u001b[1;33m=\u001b[0m \u001b[0mround\u001b[0m\u001b[1;33m(\u001b[0m\u001b[0mnp\u001b[0m\u001b[1;33m.\u001b[0m\u001b[0mmax\u001b[0m\u001b[1;33m(\u001b[0m\u001b[1;33m[\u001b[0m\u001b[1;36m1\u001b[0m\u001b[1;33m,\u001b[0m \u001b[0mbins_sturges\u001b[0m\u001b[1;33m,\u001b[0m \u001b[0mbins_fd\u001b[0m\u001b[1;33m]\u001b[0m\u001b[1;33m)\u001b[0m\u001b[1;33m)\u001b[0m\u001b[1;33m.\u001b[0m\u001b[0mastype\u001b[0m\u001b[1;33m(\u001b[0m\u001b[0mint\u001b[0m\u001b[1;33m)\u001b[0m\u001b[1;33m\u001b[0m\u001b[1;33m\u001b[0m\u001b[0m\n\u001b[0m\u001b[0;32m    132\u001b[0m \u001b[1;33m\u001b[0m\u001b[0m\n\u001b[0;32m    133\u001b[0m     \u001b[1;32mreturn\u001b[0m \u001b[0mnp\u001b[0m\u001b[1;33m.\u001b[0m\u001b[0marange\u001b[0m\u001b[1;33m(\u001b[0m\u001b[0mx_min\u001b[0m\u001b[1;33m,\u001b[0m \u001b[0mx_max\u001b[0m \u001b[1;33m+\u001b[0m \u001b[0mwidth\u001b[0m \u001b[1;33m+\u001b[0m \u001b[1;36m1\u001b[0m\u001b[1;33m,\u001b[0m \u001b[0mwidth\u001b[0m\u001b[1;33m)\u001b[0m\u001b[1;33m\u001b[0m\u001b[1;33m\u001b[0m\u001b[0m\n",
      "\u001b[1;31mAttributeError\u001b[0m: 'int' object has no attribute 'astype'"
     ]
    },
    {
     "data": {
      "image/png": "[encoded data removed]",
      "text/plain": [
       "<Figure size 864x432 with 6 Axes>"
      ]
     },
     "metadata": {
      "needs_background": "light"
     },
     "output_type": "display_data"
    }
   ],
   "source": [
    "_ = pymc3.traceplot(trace)"
   ]
  },
  {
   "cell_type": "code",
   "execution_count": 110,
   "metadata": {},
   "outputs": [
    {
     "name": "stderr",
     "output_type": "stream",
     "text": [
      "Sequential sampling (2 chains in 1 job)\n",
      "Metropolis: [var]\n",
      "Sampling chain 0, 0 divergences: 100%|███████████████████████████████████████████| 2500/2500 [00:00<00:00, 3930.60it/s]\n",
      "Sampling chain 1, 0 divergences: 100%|███████████████████████████████████████████| 2500/2500 [00:00<00:00, 3805.06it/s]\n",
      "The number of effective samples is smaller than 25% for some parameters.\n"
     ]
    }
   ],
   "source": [
    "# use class, because nested function cannot be pickled\n",
    "class skellam_log:\n",
    "    def __init__(self, mu1, mu2):\n",
    "        self.mu1 = mu1\n",
    "        self.mu2 = mu2\n",
    "    def __call__(self, k):\n",
    "        total = (-mu1-mu2)+(theano.tensor.log(mu1)-theano.tensor.log(mu2))*k/2\n",
    "        log_prob = total+ theano.tensor.log(iv_tensor(k, 2*theano.tensor.sqrt(mu1*mu2)))\n",
    "        return log_prob\n",
    "\n",
    "with pymc3.Model() as model:\n",
    "    \n",
    "    beta0 = pymc3.Poisson('beta0',mu=df_new['euro_score'].mean(),observed = df_new['euro_score'])\n",
    "    beta1 = pymc3.Poisson('beta1',mu=df_new['non_euro_score'].mean(),observed = df_new['non_euro_score'])\n",
    "    \n",
    "    #mean = beta0 - beta1\n",
    "    \n",
    "    var = pymc3.DiscreteUniform('var',lower=1, upper=1000)\n",
    "     \n",
    "    # why this calculation of mu1 and mu2??\n",
    "    #mu1, mu2 = df_new['euro_score'].mean(), df_new['non_euro_score'].mean()\n",
    "    #mu1 = (var + mean)/2\n",
    "    #mu2 = (var - mean)/2\n",
    "    \n",
    "    obs = pymc3.DensityDist('obs', skellam_log(beta0,beta1), observed=Y)\n",
    "    \n",
    "    trace = pymc3.sample(2000, cores=1, tune=500)"
   ]
  },
  {
   "cell_type": "code",
   "execution_count": null,
   "metadata": {},
   "outputs": [],
   "source": []
  }
 ],
 "metadata": {
  "kernelspec": {
   "display_name": "Python 3",
   "language": "python",
   "name": "python3"
  },
  "language_info": {
   "codemirror_mode": {
    "name": "ipython",
    "version": 3
   },
   "file_extension": ".py",
   "mimetype": "text/x-python",
   "name": "python",
   "nbconvert_exporter": "python",
   "pygments_lexer": "ipython3",
   "version": "3.7.4"
  }
 },
 "nbformat": 4,
 "nbformat_minor": 4
}
